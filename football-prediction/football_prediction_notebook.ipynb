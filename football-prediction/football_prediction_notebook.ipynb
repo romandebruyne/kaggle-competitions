{
 "cells": [
  {
   "cell_type": "markdown",
   "id": "435f52e6",
   "metadata": {},
   "source": [
    "# Kaggle - Football Prediction"
   ]
  },
  {
   "cell_type": "markdown",
   "id": "52977a9c",
   "metadata": {},
   "source": [
    "## Introduction"
   ]
  },
  {
   "cell_type": "markdown",
   "id": "80a69c39",
   "metadata": {},
   "source": [
    "This notebook was created to participate in the `Football Match Probability Prediction` competition on `kaggle.com` (https://www.kaggle.com/competitions/football-match-probability-prediction/data). The competition's goal is to **use machine learning models** to predict the probabilities of the outcome of football matches."
   ]
  },
  {
   "cell_type": "markdown",
   "id": "981fd01e",
   "metadata": {},
   "source": [
    "## Start of the project"
   ]
  },
  {
   "cell_type": "markdown",
   "id": "b51d6be1",
   "metadata": {},
   "source": [
    "### Import modules"
   ]
  },
  {
   "cell_type": "code",
   "execution_count": 1,
   "id": "b2755b2a",
   "metadata": {},
   "outputs": [],
   "source": [
    "import pandas as pd\n",
    "import numpy as np"
   ]
  },
  {
   "cell_type": "code",
   "execution_count": 2,
   "id": "b5d9f8d2",
   "metadata": {},
   "outputs": [],
   "source": [
    "import matplotlib.pyplot as plt\n",
    "import seaborn as sns"
   ]
  },
  {
   "cell_type": "code",
   "execution_count": 3,
   "id": "4980b848",
   "metadata": {},
   "outputs": [],
   "source": [
    "from sklearn.preprocessing import StandardScaler, MinMaxScaler\n",
    "from sklearn.model_selection import train_test_split\n",
    "from sklearn.metrics import confusion_matrix, ConfusionMatrixDisplay, classification_report\n",
    "from sklearn.model_selection import KFold, StratifiedKFold, cross_val_score, GridSearchCV"
   ]
  },
  {
   "cell_type": "code",
   "execution_count": 4,
   "id": "7471f8e4",
   "metadata": {},
   "outputs": [],
   "source": [
    "from imblearn.over_sampling import RandomOverSampler"
   ]
  },
  {
   "cell_type": "code",
   "execution_count": 5,
   "id": "478e0e1c",
   "metadata": {},
   "outputs": [],
   "source": [
    "from sklearn.tree import DecisionTreeClassifier\n",
    "from sklearn.ensemble import RandomForestClassifier\n",
    "import xgboost as xgb"
   ]
  },
  {
   "cell_type": "code",
   "execution_count": 81,
   "id": "67d924c3",
   "metadata": {},
   "outputs": [],
   "source": [
    "import tensorflow\n",
    "from keras.utils.np_utils import to_categorical\n",
    "from tensorflow.keras.models import Sequential\n",
    "from tensorflow.keras.layers import InputLayer, Dense, Dropout\n",
    "from tensorflow.keras.optimizers import Adam\n",
    "from tensorflow.keras.callbacks import EarlyStopping\n",
    "from tensorflow.keras.losses import CategoricalCrossentropy\n",
    "from tensorflow.keras.metrics import CategoricalAccuracy"
   ]
  },
  {
   "cell_type": "markdown",
   "id": "d9be4a42",
   "metadata": {},
   "source": [
    "### Import data"
   ]
  },
  {
   "cell_type": "markdown",
   "id": "3a63f463",
   "metadata": {},
   "source": [
    "To avoid warnings, the data types for the descriptive features (see below) are defined before importing the data:\n",
    "\n",
    "* target - draw, home or away depending on what team won the game.\n",
    "* home_team_name - name of the Home team.\n",
    "* away_team_name - name of the Away team.\n",
    "* match_date - match date (UTC).\n",
    "* league_name - league name.\n",
    "* league_id - league id; note that league names can be identical for two differents id.\n",
    "* is_cup - if 1 the match is played for a cup competition.\n",
    "* home_team_coach_id - id of the Home team coach.\n",
    "* away_team_coach_id - id of the Away team coach."
   ]
  },
  {
   "cell_type": "code",
   "execution_count": 124,
   "id": "df004c8f",
   "metadata": {},
   "outputs": [],
   "source": [
    "dtypes = {\"target\": \"object\", \"home_team_name\": \"object\", \"away_team_name\": \"object\", \"league_name\": \"object\",\n",
    "          \"is_cup\": \"int64\", \"home_team_coach_id\": \"float64\", \"away_team_coach_id\": \"float64\"}"
   ]
  },
  {
   "cell_type": "code",
   "execution_count": 125,
   "id": "cd0df1f7",
   "metadata": {},
   "outputs": [],
   "source": [
    "train_data = pd.read_csv(\"train.csv\", dtype = dtypes, index_col = [0], parse_dates = [\"match_date\"])"
   ]
  },
  {
   "cell_type": "code",
   "execution_count": 126,
   "id": "d7903130",
   "metadata": {},
   "outputs": [],
   "source": [
    "train_data.rename_axis(None, inplace = True)"
   ]
  },
  {
   "cell_type": "code",
   "execution_count": 127,
   "id": "d2d35887",
   "metadata": {},
   "outputs": [],
   "source": [
    "del dtypes[\"target\"]"
   ]
  },
  {
   "cell_type": "code",
   "execution_count": 128,
   "id": "d948b32b",
   "metadata": {},
   "outputs": [],
   "source": [
    "test_data = pd.read_csv(\"test.csv\", dtype = dtypes, index_col = [0], parse_dates = [\"match_date\"])"
   ]
  },
  {
   "cell_type": "code",
   "execution_count": 129,
   "id": "3a109640",
   "metadata": {},
   "outputs": [],
   "source": [
    "test_data.rename_axis(None, inplace = True)"
   ]
  },
  {
   "cell_type": "markdown",
   "id": "521cb267",
   "metadata": {},
   "source": [
    "### Exploratory Data Analysis"
   ]
  },
  {
   "cell_type": "markdown",
   "id": "776ae456",
   "metadata": {},
   "source": [
    "#### Target classes"
   ]
  },
  {
   "cell_type": "code",
   "execution_count": 130,
   "id": "c0335b4d",
   "metadata": {},
   "outputs": [
    {
     "data": {
      "text/plain": [
       "home    43.369269\n",
       "away    31.705998\n",
       "draw    24.924733\n",
       "Name: target, dtype: float64"
      ]
     },
     "execution_count": 130,
     "metadata": {},
     "output_type": "execute_result"
    }
   ],
   "source": [
    "train_data[\"target\"].value_counts(normalize = True, sort = True) * 100"
   ]
  },
  {
   "cell_type": "code",
   "execution_count": 131,
   "id": "97e636b5",
   "metadata": {},
   "outputs": [
    {
     "data": {
      "image/png": "[encoded data removed]",
      "text/plain": [
       "<Figure size 1152x432 with 1 Axes>"
      ]
     },
     "metadata": {
      "needs_background": "light"
     },
     "output_type": "display_data"
    }
   ],
   "source": [
    "fig, ax = plt.subplots(figsize = (16, 6))\n",
    "sns.countplot(data = train_data, x = \"target\", ax = ax)\n",
    "plt.show()"
   ]
  },
  {
   "cell_type": "markdown",
   "id": "8bce779d",
   "metadata": {},
   "source": [
    "Three classes: home team win, away team win and draw. There might be a problem of label imbalance. Keep that in mind. Moreover, it might be necessary to encode the strings as integer values for some models."
   ]
  },
  {
   "cell_type": "code",
   "execution_count": 132,
   "id": "1d47076e",
   "metadata": {},
   "outputs": [],
   "source": [
    "train_data[\"target\"] = train_data[\"target\"].map({\"draw\": 0, \"home\": 1, \"away\": 2})"
   ]
  },
  {
   "cell_type": "markdown",
   "id": "98a9b090",
   "metadata": {},
   "source": [
    "#### Features"
   ]
  },
  {
   "cell_type": "markdown",
   "id": "187dc341",
   "metadata": {},
   "source": [
    "Stated on the Kaggle competition webpage: 'The features provided are divided into two parts: the descriptive features and the historical features. Descriptive features are point-in-time descriptions of the match that has to be predicted. Historical features contain past information of the 10 games previously played by the Home and the Away team.'\n",
    "\n",
    "Hence, we differentiate between descriptive as well as historical features during the EDA."
   ]
  },
  {
   "cell_type": "code",
   "execution_count": 133,
   "id": "0b4deb15",
   "metadata": {},
   "outputs": [],
   "source": [
    "desc_features = list(train_data.columns[1:9])"
   ]
  },
  {
   "cell_type": "code",
   "execution_count": 134,
   "id": "fdf762e1",
   "metadata": {},
   "outputs": [],
   "source": [
    "hist_features = list(train_data.columns[9:])"
   ]
  },
  {
   "cell_type": "markdown",
   "id": "dce2aa4f",
   "metadata": {},
   "source": [
    "#### Descriptive features"
   ]
  },
  {
   "cell_type": "code",
   "execution_count": 135,
   "id": "57c11973",
   "metadata": {
    "scrolled": true
   },
   "outputs": [
    {
     "name": "stdout",
     "output_type": "stream",
     "text": [
      "<class 'pandas.core.frame.DataFrame'>\n",
      "Int64Index: 110938 entries, 11906497 to 17786297\n",
      "Data columns (total 8 columns):\n",
      " #   Column              Non-Null Count   Dtype         \n",
      "---  ------              --------------   -----         \n",
      " 0   home_team_name      110937 non-null  object        \n",
      " 1   away_team_name      110937 non-null  object        \n",
      " 2   match_date          110938 non-null  datetime64[ns]\n",
      " 3   league_name         110937 non-null  object        \n",
      " 4   league_id           110938 non-null  int64         \n",
      " 5   is_cup              110938 non-null  float64       \n",
      " 6   home_team_coach_id  89217 non-null   float64       \n",
      " 7   away_team_coach_id  89123 non-null   float64       \n",
      "dtypes: datetime64[ns](1), float64(3), int64(1), object(3)\n",
      "memory usage: 11.6+ MB\n"
     ]
    }
   ],
   "source": [
    "train_data[desc_features].info()"
   ]
  },
  {
   "cell_type": "markdown",
   "id": "2bba52ed",
   "metadata": {},
   "source": [
    "As indicated by the table, there are missing values:"
   ]
  },
  {
   "cell_type": "code",
   "execution_count": 136,
   "id": "449a4c2a",
   "metadata": {},
   "outputs": [
    {
     "name": "stdout",
     "output_type": "stream",
     "text": [
      "home_team_name: 1 missing values\n",
      "away_team_name: 1 missing values\n",
      "match_date: 0 missing values\n",
      "league_name: 1 missing values\n",
      "league_id: 0 missing values\n",
      "is_cup: 0 missing values\n",
      "home_team_coach_id: 21721 missing values\n",
      "away_team_coach_id: 21815 missing values\n"
     ]
    }
   ],
   "source": [
    "for col in desc_features:\n",
    "    print(f'{col}: {train_data[col].isnull().sum()} missing values')"
   ]
  },
  {
   "cell_type": "markdown",
   "id": "2a8dcd6e",
   "metadata": {},
   "source": [
    "Missing value in features 'home_team_name', 'away_team_name' and 'league_name' all belong to same index. Hence, the row will be removed from dataset."
   ]
  },
  {
   "cell_type": "code",
   "execution_count": 137,
   "id": "31c69e91",
   "metadata": {},
   "outputs": [],
   "source": [
    "# train_data[train_data[\"home_team_name\"].isnull()].index[0]"
   ]
  },
  {
   "cell_type": "code",
   "execution_count": 138,
   "id": "fd2361d7",
   "metadata": {},
   "outputs": [],
   "source": [
    "# train_data[train_data[\"away_team_name\"].isna()].index[0]"
   ]
  },
  {
   "cell_type": "code",
   "execution_count": 139,
   "id": "50bfbe71",
   "metadata": {},
   "outputs": [],
   "source": [
    "# train_data[train_data[\"league_name\"].isna()].index[0]"
   ]
  },
  {
   "cell_type": "code",
   "execution_count": 140,
   "id": "aaa7c9e4",
   "metadata": {},
   "outputs": [],
   "source": [
    "train_data.drop(index = train_data[train_data[\"home_team_name\"].isnull()].index[0], axis = 0, inplace = True)"
   ]
  },
  {
   "cell_type": "markdown",
   "id": "4ee51f37",
   "metadata": {},
   "source": [
    "Missing values in the remaining two features 'home_team_coach_id' & 'away_team_coach_id' are not relevant, as they will be removed in the next step. Assumption: id-features do not contain useful information when trying to predict the outcome of football matches. Moreover, names of teams are assumed to have no impact. Drop the features as well."
   ]
  },
  {
   "cell_type": "code",
   "execution_count": 141,
   "id": "a6b189fd",
   "metadata": {},
   "outputs": [
    {
     "name": "stdout",
     "output_type": "stream",
     "text": [
      "Correlation between target and league_id: 0.01\n",
      "Correlation between target and home_team_coach_id: 0.02\n",
      "Correlation between target and away_team_coach_id: -0.01\n"
     ]
    }
   ],
   "source": [
    "for column in [\"league_id\", \"home_team_coach_id\", \"away_team_coach_id\"]:\n",
    "    print(f'Correlation between target and {column}: {round(train_data[[\"target\", column]].corr().iloc[0, 1], 2)}')"
   ]
  },
  {
   "cell_type": "code",
   "execution_count": 142,
   "id": "91ae0972",
   "metadata": {},
   "outputs": [],
   "source": [
    "train_data.drop(columns = [\"home_team_name\", \"away_team_name\", \"league_name\", \"league_id\",\n",
    "                           \"home_team_coach_id\", \"away_team_coach_id\"], axis = 1, inplace = True)"
   ]
  },
  {
   "cell_type": "code",
   "execution_count": 143,
   "id": "ec6db0f6",
   "metadata": {},
   "outputs": [],
   "source": [
    "test_data.drop(columns = [\"home_team_name\", \"away_team_name\", \"league_name\", \"league_id\",\n",
    "                          \"home_team_coach_id\", \"away_team_coach_id\"], axis = 1, inplace = True)"
   ]
  },
  {
   "cell_type": "markdown",
   "id": "a8576c3e",
   "metadata": {},
   "source": [
    "#### Historical features"
   ]
  },
  {
   "cell_type": "code",
   "execution_count": 144,
   "id": "3928ba44",
   "metadata": {},
   "outputs": [
    {
     "name": "stdout",
     "output_type": "stream",
     "text": [
      "<class 'pandas.core.frame.DataFrame'>\n",
      "Int64Index: 110937 entries, 11906497 to 17786297\n",
      "Columns: 180 entries, home_team_history_match_date_1 to away_team_history_league_id_10\n",
      "dtypes: float64(160), object(20)\n",
      "memory usage: 153.2+ MB\n"
     ]
    }
   ],
   "source": [
    "train_data[hist_features].info()"
   ]
  },
  {
   "cell_type": "markdown",
   "id": "6ab8a78f",
   "metadata": {},
   "source": [
    "Are there missing values for the historical features as well?"
   ]
  },
  {
   "cell_type": "code",
   "execution_count": 145,
   "id": "d46b40a1",
   "metadata": {},
   "outputs": [],
   "source": [
    "#for col in hist_features:\n",
    "#    print(f'{col}: {train_data[col].isnull().sum()} missing values')"
   ]
  },
  {
   "cell_type": "markdown",
   "id": "5bb5b070",
   "metadata": {},
   "source": [
    "There some to be a lot of missing values (see also cells below). As I do not know how appropriately replace the missing values, they will be dropped during data preprocessing. Definitely space for improvements. "
   ]
  },
  {
   "cell_type": "code",
   "execution_count": 146,
   "id": "b294f05c",
   "metadata": {},
   "outputs": [
    {
     "name": "stdout",
     "output_type": "stream",
     "text": [
      "Test data containts 1,673,716 missing values.\n"
     ]
    }
   ],
   "source": [
    "print('Test data containts {:,.0f} missing values.'.format(sum(train_data.isna().sum())))"
   ]
  },
  {
   "cell_type": "code",
   "execution_count": 147,
   "id": "fa96fe89",
   "metadata": {},
   "outputs": [
    {
     "name": "stdout",
     "output_type": "stream",
     "text": [
      "That are 15.1% percent of the test dataset.\n"
     ]
    }
   ],
   "source": [
    "print(f'That are {round(sum(train_data.isna().sum()) / len(train_data), 1)}% percent of the test dataset.')"
   ]
  },
  {
   "cell_type": "markdown",
   "id": "d06e94bb",
   "metadata": {},
   "source": [
    "Due to vast amount of features the examination is divided into several units. First ten features are related to historical matches. Each entry is a date. Hence, the data type is changed."
   ]
  },
  {
   "cell_type": "code",
   "execution_count": 148,
   "id": "46783449",
   "metadata": {},
   "outputs": [],
   "source": [
    "# train_data[hist_features[0:10]].info()"
   ]
  },
  {
   "cell_type": "code",
   "execution_count": 149,
   "id": "fb37e7af",
   "metadata": {},
   "outputs": [],
   "source": [
    "train_data[hist_features[0:10]] = train_data[hist_features[0:10]].astype(\"datetime64\")"
   ]
  },
  {
   "cell_type": "code",
   "execution_count": 150,
   "id": "bb861c38",
   "metadata": {},
   "outputs": [],
   "source": [
    "test_data[hist_features[0:10]] = test_data[hist_features[0:10]].astype(\"datetime64\")"
   ]
  },
  {
   "cell_type": "markdown",
   "id": "889c7bee",
   "metadata": {},
   "source": [
    "Second subset contains features indicating whether the home team played the historical match at home."
   ]
  },
  {
   "cell_type": "code",
   "execution_count": 151,
   "id": "d91c7973",
   "metadata": {},
   "outputs": [],
   "source": [
    "# train_data[hist_features[10:20]].info()"
   ]
  },
  {
   "cell_type": "markdown",
   "id": "ebdec956",
   "metadata": {},
   "source": [
    "Third subset: is the historical match a cup match?"
   ]
  },
  {
   "cell_type": "code",
   "execution_count": 152,
   "id": "54796955",
   "metadata": {},
   "outputs": [],
   "source": [
    "# train_data[hist_features[20:30]].info()"
   ]
  },
  {
   "cell_type": "markdown",
   "id": "f0e688a7",
   "metadata": {},
   "source": [
    "Fourth subset: number of goals the home team scored in the historical match."
   ]
  },
  {
   "cell_type": "code",
   "execution_count": 153,
   "id": "4656600a",
   "metadata": {},
   "outputs": [],
   "source": [
    "# train_data[hist_features[30:40]].info()"
   ]
  },
  {
   "cell_type": "markdown",
   "id": "00a419c4",
   "metadata": {},
   "source": [
    "Fifth subset: number of goals the home team's opponent scored in the historical match."
   ]
  },
  {
   "cell_type": "code",
   "execution_count": 154,
   "id": "af65b62e",
   "metadata": {},
   "outputs": [],
   "source": [
    "# train_data[hist_features[40:50]].info()"
   ]
  },
  {
   "cell_type": "markdown",
   "id": "15ca33b6",
   "metadata": {},
   "source": [
    "Sixth subset: home team's rating for the historical match."
   ]
  },
  {
   "cell_type": "code",
   "execution_count": 155,
   "id": "17e0d0ec",
   "metadata": {},
   "outputs": [],
   "source": [
    "# train_data[hist_features[50:60]].info()"
   ]
  },
  {
   "cell_type": "markdown",
   "id": "0df5758a",
   "metadata": {},
   "source": [
    "Seventh subset: home team's opponent's rating for the historical match."
   ]
  },
  {
   "cell_type": "code",
   "execution_count": 156,
   "id": "59a8badf",
   "metadata": {},
   "outputs": [],
   "source": [
    "# train_data[hist_features[60:70]].info()"
   ]
  },
  {
   "cell_type": "markdown",
   "id": "b518eb43",
   "metadata": {},
   "source": [
    "Eight subset: ID of the home team coach. Will be dropped due to reasons already discussed."
   ]
  },
  {
   "cell_type": "code",
   "execution_count": 157,
   "id": "c1ed07c1",
   "metadata": {},
   "outputs": [],
   "source": [
    "# train_data[hist_features[70:80]].info()"
   ]
  },
  {
   "cell_type": "code",
   "execution_count": 158,
   "id": "49f7ad7c",
   "metadata": {},
   "outputs": [
    {
     "name": "stdout",
     "output_type": "stream",
     "text": [
      "Correlation between target and home_team_history_opponent_rating_8: 0.08\n",
      "Correlation between target and home_team_history_opponent_rating_9: 0.08\n",
      "Correlation between target and home_team_history_opponent_rating_10: 0.07\n",
      "Correlation between target and home_team_history_coach_1: 0.02\n",
      "Correlation between target and home_team_history_coach_2: 0.02\n",
      "Correlation between target and home_team_history_coach_3: 0.02\n",
      "Correlation between target and home_team_history_coach_4: 0.02\n",
      "Correlation between target and home_team_history_coach_5: 0.02\n",
      "Correlation between target and home_team_history_coach_6: 0.02\n",
      "Correlation between target and home_team_history_coach_7: 0.02\n"
     ]
    }
   ],
   "source": [
    "for column_index in range(70, 80):\n",
    "    column = train_data.columns[column_index]\n",
    "    print(f'Correlation between target and {column}: {round(train_data[[\"target\", column]].corr().iloc[0, 1], 2)}')"
   ]
  },
  {
   "cell_type": "markdown",
   "id": "7ca45a1c",
   "metadata": {},
   "source": [
    "Ninth subset: home team's league ID. Will be dropped due to reasons already discussed."
   ]
  },
  {
   "cell_type": "code",
   "execution_count": 159,
   "id": "2b36710f",
   "metadata": {},
   "outputs": [],
   "source": [
    "# train_data[hist_features[80:90]].info()"
   ]
  },
  {
   "cell_type": "code",
   "execution_count": 160,
   "id": "079693b2",
   "metadata": {},
   "outputs": [
    {
     "name": "stdout",
     "output_type": "stream",
     "text": [
      "Correlation between target and home_team_history_coach_8: 0.02\n",
      "Correlation between target and home_team_history_coach_9: 0.02\n",
      "Correlation between target and home_team_history_coach_10: 0.01\n",
      "Correlation between target and home_team_history_league_id_1: 0.01\n",
      "Correlation between target and home_team_history_league_id_2: 0.01\n",
      "Correlation between target and home_team_history_league_id_3: 0.01\n",
      "Correlation between target and home_team_history_league_id_4: 0.01\n",
      "Correlation between target and home_team_history_league_id_5: 0.01\n",
      "Correlation between target and home_team_history_league_id_6: 0.01\n",
      "Correlation between target and home_team_history_league_id_7: 0.0\n"
     ]
    }
   ],
   "source": [
    "for column_index in range(80, 90):\n",
    "    column = train_data.columns[column_index]\n",
    "    print(f'Correlation between target and {column}: {round(train_data[[\"target\", column]].corr().iloc[0, 1], 2)}')"
   ]
  },
  {
   "cell_type": "markdown",
   "id": "0d28f938",
   "metadata": {},
   "source": [
    "As indicated above, the irrelevant columns are dropped:"
   ]
  },
  {
   "cell_type": "code",
   "execution_count": 161,
   "id": "7025768a",
   "metadata": {},
   "outputs": [],
   "source": [
    "train_data.drop(columns = hist_features[70:80], axis = 1, inplace = True)\n",
    "test_data.drop(columns = hist_features[70:80], axis = 1, inplace = True)\n",
    "train_data.drop(columns = hist_features[80:90], axis = 1, inplace = True)\n",
    "test_data.drop(columns = hist_features[80:90], axis = 1, inplace = True)"
   ]
  },
  {
   "cell_type": "markdown",
   "id": "aa31c503",
   "metadata": {},
   "source": [
    "Remaining subsets are related to the away team and contain similar information presented above for the home team."
   ]
  },
  {
   "cell_type": "code",
   "execution_count": 162,
   "id": "56778ff5",
   "metadata": {},
   "outputs": [],
   "source": [
    "# train_data[hist_features[90:100]].info()"
   ]
  },
  {
   "cell_type": "code",
   "execution_count": 163,
   "id": "8e573dd8",
   "metadata": {},
   "outputs": [],
   "source": [
    "train_data[hist_features[90:100]] = train_data[hist_features[90:100]].astype(\"datetime64\")"
   ]
  },
  {
   "cell_type": "code",
   "execution_count": 164,
   "id": "908a56b7",
   "metadata": {},
   "outputs": [],
   "source": [
    "test_data[hist_features[90:100]] = test_data[hist_features[90:100]].astype(\"datetime64\")"
   ]
  },
  {
   "cell_type": "code",
   "execution_count": 165,
   "id": "6e3e221a",
   "metadata": {},
   "outputs": [],
   "source": [
    "# train_data[hist_features[100:110]].info()"
   ]
  },
  {
   "cell_type": "code",
   "execution_count": 166,
   "id": "a8aff373",
   "metadata": {},
   "outputs": [],
   "source": [
    "# train_data[hist_features[110:120]].info()"
   ]
  },
  {
   "cell_type": "code",
   "execution_count": 167,
   "id": "2cbce373",
   "metadata": {},
   "outputs": [],
   "source": [
    "# train_data[hist_features[120:130]].info()"
   ]
  },
  {
   "cell_type": "code",
   "execution_count": 168,
   "id": "e4d73bf2",
   "metadata": {},
   "outputs": [],
   "source": [
    "# train_data[hist_features[130:140]].info()"
   ]
  },
  {
   "cell_type": "code",
   "execution_count": 169,
   "id": "de53c65a",
   "metadata": {},
   "outputs": [],
   "source": [
    "# train_data[hist_features[130:140]].info()"
   ]
  },
  {
   "cell_type": "code",
   "execution_count": 170,
   "id": "09f0c389",
   "metadata": {},
   "outputs": [],
   "source": [
    "# train_data[hist_features[140:150]].info()"
   ]
  },
  {
   "cell_type": "code",
   "execution_count": 171,
   "id": "175d8031",
   "metadata": {},
   "outputs": [],
   "source": [
    "# train_data[hist_features[150:160]].info()"
   ]
  },
  {
   "cell_type": "code",
   "execution_count": 172,
   "id": "3303095d",
   "metadata": {},
   "outputs": [],
   "source": [
    "# train_data[hist_features[160:170]].info()"
   ]
  },
  {
   "cell_type": "code",
   "execution_count": 173,
   "id": "53598b79",
   "metadata": {},
   "outputs": [],
   "source": [
    "# train_data[hist_features[170:180]].info()"
   ]
  },
  {
   "cell_type": "code",
   "execution_count": 174,
   "id": "d72e26c1",
   "metadata": {},
   "outputs": [],
   "source": [
    "train_data.drop(columns = hist_features[160:170], axis = 1, inplace = True)\n",
    "test_data.drop(columns = hist_features[160:170], axis = 1, inplace = True)\n",
    "train_data.drop(columns = hist_features[170:180], axis = 1, inplace = True)\n",
    "test_data.drop(columns = hist_features[170:180], axis = 1, inplace = True)"
   ]
  },
  {
   "cell_type": "markdown",
   "id": "fd069046",
   "metadata": {},
   "source": [
    "Next, we create new features based on all date-based features. The newly created features indicate the difference (counted in days) between the match date and the respective historical match:"
   ]
  },
  {
   "cell_type": "code",
   "execution_count": 175,
   "id": "51637219",
   "metadata": {},
   "outputs": [],
   "source": [
    "for i in range(1, 11):\n",
    "    home_column = f'home_team_history_match_date_{i}'\n",
    "    away_column = f'away_team_history_match_date_{i}'\n",
    "    \n",
    "    train_data[f'home_team_history_match_days_ago_{i}'] = (train_data['match_date'] - train_data[home_column]).dt.days\n",
    "    train_data[f'away_team_history_match_days_ago_{i}'] = (train_data['match_date']- train_data[away_column]).dt.days"
   ]
  },
  {
   "cell_type": "markdown",
   "id": "a80efd04",
   "metadata": {},
   "source": [
    "Same procedure for the test data:"
   ]
  },
  {
   "cell_type": "code",
   "execution_count": 176,
   "id": "7ea33834",
   "metadata": {},
   "outputs": [],
   "source": [
    "for i in range(1, 11):\n",
    "    home_column = f'home_team_history_match_date_{i}'\n",
    "    away_column = f'away_team_history_match_date_{i}'\n",
    "    \n",
    "    test_data[f'home_team_history_match_days_ago_{i}'] = (test_data['match_date'] - test_data[home_column]).dt.days\n",
    "    test_data[f'away_team_history_match_days_ago_{i}'] = (test_data['match_date'] - test_data[away_column]).dt.days"
   ]
  },
  {
   "cell_type": "markdown",
   "id": "f474c864",
   "metadata": {},
   "source": [
    "Finally, all date-based features are dropped:"
   ]
  },
  {
   "cell_type": "code",
   "execution_count": 177,
   "id": "2ee54b3f",
   "metadata": {},
   "outputs": [],
   "source": [
    "train_data_date_based_columns = train_data.select_dtypes(include = \"datetime64\").columns\n",
    "test_data_date_based_columns = test_data.select_dtypes(include = \"datetime64\").columns"
   ]
  },
  {
   "cell_type": "code",
   "execution_count": 178,
   "id": "6406004b",
   "metadata": {},
   "outputs": [],
   "source": [
    "train_data.drop(columns = train_data_date_based_columns, axis = 1, inplace = True)"
   ]
  },
  {
   "cell_type": "code",
   "execution_count": 179,
   "id": "dfaee5e8",
   "metadata": {},
   "outputs": [],
   "source": [
    "test_data.drop(columns = test_data_date_based_columns, axis = 1, inplace = True)"
   ]
  },
  {
   "cell_type": "markdown",
   "id": "e6d62c84",
   "metadata": {},
   "source": [
    "### Preprocessing the data"
   ]
  },
  {
   "cell_type": "markdown",
   "id": "450815e6",
   "metadata": {},
   "source": [
    "#### Handling remaining missing values"
   ]
  },
  {
   "cell_type": "markdown",
   "id": "a7d707ad",
   "metadata": {},
   "source": [
    "As no appropriate method to deal with the missing values in the historical values was provided yet, they will be dropped to enable modelling."
   ]
  },
  {
   "cell_type": "code",
   "execution_count": 180,
   "id": "fbad3397",
   "metadata": {},
   "outputs": [],
   "source": [
    "train_data = train_data.dropna()"
   ]
  },
  {
   "cell_type": "markdown",
   "id": "caae4178",
   "metadata": {},
   "source": [
    "#### Resampling to remove imbalance in targets"
   ]
  },
  {
   "cell_type": "markdown",
   "id": "585b5a54",
   "metadata": {},
   "source": [
    "First, separate features from targets/labels:"
   ]
  },
  {
   "cell_type": "code",
   "execution_count": 181,
   "id": "bd87d269",
   "metadata": {},
   "outputs": [],
   "source": [
    "features = train_data.drop(columns = [\"target\"], axis = 1)"
   ]
  },
  {
   "cell_type": "code",
   "execution_count": 182,
   "id": "b68ea3cc",
   "metadata": {},
   "outputs": [],
   "source": [
    "labels = train_data.loc[:, \"target\"]"
   ]
  },
  {
   "cell_type": "markdown",
   "id": "0bb6f9af",
   "metadata": {},
   "source": [
    "As stated at the beginning the labels are imbalanced. To avoid biased results, **resampling** is applied. In particular, **random oversampling** is applied.\n",
    "\n",
    "Random oversampling involves randomly selecting examples from the minority class, with replacement, and adding them to the training dataset. Note that problems of overfitting might be amplified by that procedure.\n",
    "\n",
    "Alternatively, one could apply **undersampling** (reduce the majority class; problem: loss of crucial data) or **Synthetic Minority Oversampling Technique (SMOTE)** (generate new synthetic samples in minority class by slightly modifying existing samples)."
   ]
  },
  {
   "cell_type": "code",
   "execution_count": 183,
   "id": "022d4b67",
   "metadata": {},
   "outputs": [],
   "source": [
    "random_oversampler = RandomOverSampler(random_state = 42)"
   ]
  },
  {
   "cell_type": "code",
   "execution_count": 184,
   "id": "e826ac2b",
   "metadata": {},
   "outputs": [],
   "source": [
    "resampled_data = random_oversampler.fit_resample(features, labels)"
   ]
  },
  {
   "cell_type": "code",
   "execution_count": 185,
   "id": "ca794701",
   "metadata": {},
   "outputs": [],
   "source": [
    "features_after_resampling = pd.DataFrame(list(resampled_data[:-1])[0])"
   ]
  },
  {
   "cell_type": "code",
   "execution_count": 186,
   "id": "44dca2dd",
   "metadata": {},
   "outputs": [],
   "source": [
    "labels_after_resampling = resampled_data[-1]"
   ]
  },
  {
   "cell_type": "markdown",
   "id": "04ce79ba",
   "metadata": {},
   "source": [
    "#### Feature Scaling"
   ]
  },
  {
   "cell_type": "markdown",
   "id": "3edb71e2",
   "metadata": {},
   "source": [
    "What is feature scaling? It is a preprocessing technique that transforms values to a similar scale, ensuring all features contribute equally to the model. In many cases, features are characterized by varying ranges, units, or magnitudes. Scaling improves the model's performance and prevents bias from features with relatively large values.\n",
    "\n",
    "Feature scaling can be achieved by **standardization** and **normalization**.\n",
    "\n",
    "* **Standardization**: values are centered around the mean with a unit standard deviation.\n",
    "* **Normalization** (often called **Min-max scaling**): values are shifted and rescaled so that they end up ranging between 0 and 1.\n",
    "\n",
    "The choice between standardization and normalization depend on the problem, the dataset and the machine learning algorithm. One feasible way is to fit the model to raw, normalized, and standardized data and compare the performance.\n",
    "\n",
    "Sources:\n",
    "* https://www.analyticsvidhya.com/blog/2020/04/feature-scaling-machine-learning-normalization-standardization/\n",
    "* https://www.datacamp.com/tutorial/normalization-in-machine-learning"
   ]
  },
  {
   "cell_type": "code",
   "execution_count": 187,
   "id": "b1a8454f",
   "metadata": {},
   "outputs": [],
   "source": [
    "scaler = StandardScaler()\n",
    "# scaler = MinMaxScaler()"
   ]
  },
  {
   "cell_type": "code",
   "execution_count": 188,
   "id": "f5961c21",
   "metadata": {},
   "outputs": [],
   "source": [
    "features_scaled = scaler.fit_transform(features_after_resampling)"
   ]
  },
  {
   "cell_type": "code",
   "execution_count": 189,
   "id": "19fdc53a",
   "metadata": {},
   "outputs": [],
   "source": [
    "features_test_scaled = scaler.transform(test_data)"
   ]
  },
  {
   "cell_type": "markdown",
   "id": "cf510994",
   "metadata": {},
   "source": [
    "#### Training and validation set split"
   ]
  },
  {
   "cell_type": "code",
   "execution_count": 190,
   "id": "8d9515cf",
   "metadata": {},
   "outputs": [],
   "source": [
    "feat_train, feat_valid, labels_train, labels_valid = train_test_split(features_scaled, labels_after_resampling,\n",
    "                                                                      test_size = 0.2, shuffle = True)"
   ]
  },
  {
   "cell_type": "markdown",
   "id": "7ec9d904",
   "metadata": {},
   "source": [
    "### Modelling"
   ]
  },
  {
   "cell_type": "markdown",
   "id": "4898cb34",
   "metadata": {},
   "source": [
    "#### Cross-validation strategy & performance metric"
   ]
  },
  {
   "cell_type": "markdown",
   "id": "92b41217",
   "metadata": {},
   "source": [
    "First, we choose a **cross-validation strategy**. Cross-validation is a technique for evaluating models by training several models on subsets of the available input data and evaluating them on another subset of the data. The technique allows to detect overfitting. There are a lot of different approaches, but all of them have a similar algorithm:\n",
    "\n",
    "1. Divide the dataset into two subsets: one for training, other for validation.\n",
    "2. Train the model on the training set.\n",
    "3. Validate the model on the test set.\n",
    "4. Repeat 1-3 steps a couple of times (depending on the approach).\n",
    "\n",
    "A popular approach is the **k-fold** cross-validation, which applies the following iterative process:\n",
    "\n",
    "1. Pick a number of folds (k).\n",
    "2. Split the dataset into k subsets (folds).\n",
    "3. Choose k – 1 folds as the training subsets.\n",
    "4. Train the model on the training subsets.\n",
    "5. Validate on the remaining validation subset.\n",
    "6. Save the results.\n",
    "7. Repeat steps 3 – 6 k times. In step 3: do not pick the same k - 1 subsets as in the previous iteration. In the end, the model should have been validated on every fold!\n",
    "8. Calculate the final score by averaging all results.\n",
    "\n",
    "In this case, we will stick to **stratified cross-validation**. It is a variation of k-fold with stratified folds: each fold contains approximately the same percentage of samples of each target class as the complete dataset.\n",
    "\n",
    "Sources:\n",
    "* https://neptune.ai/blog/cross-validation-in-machine-learning-how-to-do-it-right"
   ]
  },
  {
   "cell_type": "code",
   "execution_count": 191,
   "id": "a19b94e7",
   "metadata": {},
   "outputs": [],
   "source": [
    "stratified_cross_valid_folds = StratifiedKFold(n_splits = 5, random_state = 42, shuffle = True)"
   ]
  },
  {
   "cell_type": "markdown",
   "id": "6f8eff07",
   "metadata": {},
   "source": [
    "To evaluate the model's performance, we have to choose a **performance metric**. In the following, the most commonly used metrics are described:\n",
    "\n",
    "* **Accuracy** = **(TP + TN) / (TP + FP + TN + FN)**, where TP: true positive, FP: false positive, TN: true negative, and FN: false negative. It shows the proportion of correctly predicted results.\n",
    "\n",
    "* **Precision** = **TP / (TP + FP)**. Proportion of true positive predictions among all positive predictions. Ability of the classifier **not** to label a negative sample as positive.\n",
    "\n",
    "* **Recall** = **TP / (TP + FN)**. Proportion of true positive predictions among all actual positive instances. Ability of the classifier to find all the positive samples.\n",
    "\n",
    "* **F1-score**: can be interpreted as a weighted harmonic mean of the precision and recall, where the score reaches its best value at 1 and worst score at 0.\n",
    "\n",
    "Since the dataset is balanced (due to random oversampling), we will use accuracy as perfomance metric."
   ]
  },
  {
   "cell_type": "code",
   "execution_count": 192,
   "id": "374e50de",
   "metadata": {},
   "outputs": [],
   "source": [
    "def evaluate_model(model, X = feat_train, y = labels_train):\n",
    "    return cross_val_score(model, X, y, cv = stratified_cross_valid_folds, scoring = \"accuracy\")"
   ]
  },
  {
   "cell_type": "markdown",
   "id": "43542da8",
   "metadata": {},
   "source": [
    "#### Decision Tree Classifier"
   ]
  },
  {
   "cell_type": "markdown",
   "id": "c1326643",
   "metadata": {},
   "source": [
    "We start with a simple Decision Tree classifier without parameter tuning:"
   ]
  },
  {
   "cell_type": "code",
   "execution_count": 122,
   "id": "b2edc0f9",
   "metadata": {},
   "outputs": [],
   "source": [
    "decision_tree_baseline = DecisionTreeClassifier(random_state = 42)"
   ]
  },
  {
   "cell_type": "code",
   "execution_count": 123,
   "id": "2df4bd14",
   "metadata": {},
   "outputs": [],
   "source": [
    "decision_tree_baseline_accuracy_train = evaluate_model(decision_tree_baseline).mean()"
   ]
  },
  {
   "cell_type": "code",
   "execution_count": 124,
   "id": "556d5b50",
   "metadata": {},
   "outputs": [],
   "source": [
    "decision_tree_baseline_accuracy_valid = evaluate_model(decision_tree_baseline, feat_valid, labels_valid).mean()"
   ]
  },
  {
   "cell_type": "code",
   "execution_count": 131,
   "id": "b005c7c9",
   "metadata": {},
   "outputs": [
    {
     "name": "stdout",
     "output_type": "stream",
     "text": [
      "Training set: 55.89 vs. Validation set: 41.33\n"
     ]
    }
   ],
   "source": [
    "print(f'Training set: {round(decision_tree_baseline_accuracy_train * 100, 2)} \\\n",
    "vs. Validation set: {round(decision_tree_baseline_accuracy_valid * 100, 2)}')"
   ]
  },
  {
   "cell_type": "markdown",
   "id": "1e449ce9",
   "metadata": {},
   "source": [
    "The baseline model without parameter tuning already predicts round about 50 percent (on average) of the targets correctly. However, the lower accuracy when applied on the validation set implies overfitting issues. In the following, different levels of depth are evaluated to see whether a better performance can be yielded."
   ]
  },
  {
   "cell_type": "code",
   "execution_count": 132,
   "id": "f4664105",
   "metadata": {},
   "outputs": [],
   "source": [
    "depths = np.arange(1, 21, 1)"
   ]
  },
  {
   "cell_type": "code",
   "execution_count": 133,
   "id": "93621029",
   "metadata": {},
   "outputs": [],
   "source": [
    "depth_mean_accuracy_scores_train = []\n",
    "depth_mean_accuracy_scores_valid = []"
   ]
  },
  {
   "cell_type": "code",
   "execution_count": 134,
   "id": "dd6011cd",
   "metadata": {},
   "outputs": [],
   "source": [
    "for depth in depths:\n",
    "    temp_dec_tree = DecisionTreeClassifier(max_depth = depth, random_state = 42).fit(feat_train, labels_train)\n",
    "    depth_mean_accuracy_scores_train.append(evaluate_model(temp_dec_tree).mean())\n",
    "    depth_mean_accuracy_scores_valid.append(evaluate_model(temp_dec_tree, feat_valid, labels_valid).mean())"
   ]
  },
  {
   "cell_type": "code",
   "execution_count": 135,
   "id": "aa50c134",
   "metadata": {
    "scrolled": false
   },
   "outputs": [
    {
     "data": {
      "image/png": "[encoded data removed]",
      "text/plain": [
       "<Figure size 1152x432 with 1 Axes>"
      ]
     },
     "metadata": {
      "needs_background": "light"
     },
     "output_type": "display_data"
    }
   ],
   "source": [
    "fig, ax = plt.subplots(figsize = (16, 6))\n",
    "ax.plot(depths, depth_mean_accuracy_scores_train, color = \"red\", label = \"Training\")\n",
    "ax.plot(depths, depth_mean_accuracy_scores_valid, color = \"blue\", label = \"Validation\")\n",
    "ax.set_xticks(depths)\n",
    "ax.legend()\n",
    "plt.show()"
   ]
  },
  {
   "cell_type": "code",
   "execution_count": 136,
   "id": "94926b29",
   "metadata": {},
   "outputs": [],
   "source": [
    "difference_train_valid = [v - t for v,t in zip(depth_mean_accuracy_scores_train, depth_mean_accuracy_scores_valid)]"
   ]
  },
  {
   "cell_type": "code",
   "execution_count": 137,
   "id": "6bdb4be0",
   "metadata": {},
   "outputs": [],
   "source": [
    "decision_tree_mean_accuracy_scores = pd.DataFrame([depth_mean_accuracy_scores_train, depth_mean_accuracy_scores_valid,\n",
    "                                          difference_train_valid], index = ['Training', 'Validation', 'Difference'], \n",
    "                                         columns = depths).T"
   ]
  },
  {
   "cell_type": "code",
   "execution_count": 139,
   "id": "392e6f9b",
   "metadata": {},
   "outputs": [],
   "source": [
    "# decision_tree_mean_accuracy_scores"
   ]
  },
  {
   "cell_type": "markdown",
   "id": "656cd1e5",
   "metadata": {},
   "source": [
    "Problem of overfitting is quite obvious. Depth of 5 the accuracy on both the training and validation set are almost identical. Hence, model with a depth of 5 is fitted."
   ]
  },
  {
   "cell_type": "code",
   "execution_count": 140,
   "id": "b2811f7a",
   "metadata": {},
   "outputs": [],
   "source": [
    "decision_tree_final = DecisionTreeClassifier(max_depth = 5, random_state = 42).fit(feat_train, labels_train)"
   ]
  },
  {
   "cell_type": "markdown",
   "id": "052e2f63",
   "metadata": {},
   "source": [
    "Make predictions:"
   ]
  },
  {
   "cell_type": "code",
   "execution_count": 144,
   "id": "f865bcf1",
   "metadata": {},
   "outputs": [],
   "source": [
    "decision_tree_predictions = decision_tree_final.predict(feat_valid)"
   ]
  },
  {
   "cell_type": "markdown",
   "id": "df165f8f",
   "metadata": {},
   "source": [
    "Check **confusion matrix** to evaluate model performance.\n",
    "\n",
    "The confusion matrix, also known as error matrix, is a specific table that allows visualization of the performance of an algorithm. Each row of the matrix represents the instances in an actual class while each column represents the instances in a predicted class, or vice versa. The diagonal of the matrix therefore represents all instances that are correctly predicted."
   ]
  },
  {
   "cell_type": "code",
   "execution_count": 145,
   "id": "0c43f968",
   "metadata": {},
   "outputs": [],
   "source": [
    "decision_tree_confusion_matrix = confusion_matrix(labels_valid, decision_tree_predictions)"
   ]
  },
  {
   "cell_type": "code",
   "execution_count": 146,
   "id": "882be473",
   "metadata": {},
   "outputs": [],
   "source": [
    "decision_tree_confusion_matrix_plot = ConfusionMatrixDisplay(decision_tree_confusion_matrix,\n",
    "                                                             display_labels = np.array([\"draw\", \"home\", \"away\"]))"
   ]
  },
  {
   "cell_type": "code",
   "execution_count": 148,
   "id": "01fd5edd",
   "metadata": {},
   "outputs": [
    {
     "data": {
      "text/plain": [
       "<sklearn.metrics._plot.confusion_matrix.ConfusionMatrixDisplay at 0x2bff4c433a0>"
      ]
     },
     "execution_count": 148,
     "metadata": {},
     "output_type": "execute_result"
    },
    {
     "data": {
      "image/png": "[encoded data removed]",
      "text/plain": [
       "<Figure size 432x288 with 2 Axes>"
      ]
     },
     "metadata": {
      "needs_background": "light"
     },
     "output_type": "display_data"
    }
   ],
   "source": [
    "decision_tree_confusion_matrix_plot.plot()"
   ]
  },
  {
   "cell_type": "markdown",
   "id": "733857d4",
   "metadata": {},
   "source": [
    "The **classification report** shows the main classification performance metrics:"
   ]
  },
  {
   "cell_type": "code",
   "execution_count": 167,
   "id": "d109d8e6",
   "metadata": {},
   "outputs": [
    {
     "name": "stdout",
     "output_type": "stream",
     "text": [
      "              precision    recall  f1-score   support\n",
      "\n",
      "           0       0.38      0.26      0.31      7824\n",
      "           1       0.41      0.50      0.45      7681\n",
      "           2       0.43      0.47      0.45      7807\n",
      "\n",
      "    accuracy                           0.41     23312\n",
      "   macro avg       0.41      0.41      0.40     23312\n",
      "weighted avg       0.41      0.41      0.40     23312\n",
      "\n"
     ]
    }
   ],
   "source": [
    "print(classification_report(labels_valid, decision_tree_predictions))"
   ]
  },
  {
   "cell_type": "markdown",
   "id": "cc6ba17e",
   "metadata": {},
   "source": [
    "As already indicated by the plot comparing accuracy score on training and validation set, the accuracy is around 41 percent. Not bad, not good. Moreover, feature importance is examined to see whether features could be excluded to reduce complexity."
   ]
  },
  {
   "cell_type": "code",
   "execution_count": 150,
   "id": "37b11d0e",
   "metadata": {},
   "outputs": [],
   "source": [
    "feature_importance = pd.Series(decision_tree_final.feature_importances_,\n",
    "                               index = features.columns).sort_values(ascending = False)"
   ]
  },
  {
   "cell_type": "code",
   "execution_count": 151,
   "id": "8dc8fe21",
   "metadata": {},
   "outputs": [
    {
     "data": {
      "image/png": "[encoded data removed]",
      "text/plain": [
       "<Figure size 1152x720 with 2 Axes>"
      ]
     },
     "metadata": {
      "needs_background": "light"
     },
     "output_type": "display_data"
    }
   ],
   "source": [
    "fig, axes = plt.subplots(2, 1, figsize = (16, 10), sharex = True)\n",
    "feature_importance.tail(30).plot(kind = \"barh\", ax = axes[0])\n",
    "feature_importance.head(30).plot(kind = \"barh\", ax = axes[1])\n",
    "plt.show()"
   ]
  },
  {
   "cell_type": "markdown",
   "id": "f2912dbe",
   "metadata": {},
   "source": [
    "The charts indicate that only a fraction of all features are important in classifying the targets."
   ]
  },
  {
   "cell_type": "code",
   "execution_count": 157,
   "id": "e8dec5de",
   "metadata": {},
   "outputs": [],
   "source": [
    "important_features = list(feature_importance[feature_importance > 0.0].index)"
   ]
  },
  {
   "cell_type": "code",
   "execution_count": 164,
   "id": "daa4d06a",
   "metadata": {},
   "outputs": [],
   "source": [
    "features_sparse_scaled = scaler.fit_transform(features_after_resampling[important_features])\n",
    "features_test_sparse_scaled = scaler.transform(test_data[important_features])\n",
    "feat_sparse_train, feat_sparse_valid, labels_sparse_train, labels_sparse_valid = train_test_split(features_sparse_scaled,\n",
    "                                                                                                  labels_after_resampling,\n",
    "                                                                                                  test_size = 0.2,\n",
    "                                                                                                  shuffle = True)"
   ]
  },
  {
   "cell_type": "code",
   "execution_count": 165,
   "id": "e0b9d672",
   "metadata": {},
   "outputs": [],
   "source": [
    "decision_tree_sparse = DecisionTreeClassifier(max_depth = 5, random_state = 42).fit(feat_sparse_train, labels_sparse_train)"
   ]
  },
  {
   "cell_type": "code",
   "execution_count": 166,
   "id": "67edd64a",
   "metadata": {},
   "outputs": [],
   "source": [
    "decision_tree_sparse_predictions = decision_tree_sparse.predict(feat_sparse_valid)"
   ]
  },
  {
   "cell_type": "code",
   "execution_count": 168,
   "id": "3bcc279a",
   "metadata": {},
   "outputs": [
    {
     "name": "stdout",
     "output_type": "stream",
     "text": [
      "              precision    recall  f1-score   support\n",
      "\n",
      "           0       0.34      0.27      0.30      7824\n",
      "           1       0.33      0.38      0.35      7681\n",
      "           2       0.33      0.35      0.34      7807\n",
      "\n",
      "    accuracy                           0.33     23312\n",
      "   macro avg       0.34      0.34      0.33     23312\n",
      "weighted avg       0.34      0.33      0.33     23312\n",
      "\n"
     ]
    }
   ],
   "source": [
    "print(classification_report(labels_valid, decision_tree_sparse_predictions))"
   ]
  },
  {
   "cell_type": "markdown",
   "id": "ec7446de",
   "metadata": {},
   "source": [
    "Worse results. Up to the next model."
   ]
  },
  {
   "cell_type": "markdown",
   "id": "eddea45a",
   "metadata": {},
   "source": [
    "#### Random Forest Classifier"
   ]
  },
  {
   "cell_type": "markdown",
   "id": "5ce9bf31",
   "metadata": {},
   "source": [
    "As with the single Decision Tree Classifier, we start with a Random Forest Classifier without parameter tuning."
   ]
  },
  {
   "cell_type": "code",
   "execution_count": 182,
   "id": "cdf586f6",
   "metadata": {},
   "outputs": [],
   "source": [
    "random_forest_baseline = RandomForestClassifier(random_state = 42, n_jobs = -1)"
   ]
  },
  {
   "cell_type": "code",
   "execution_count": 170,
   "id": "499c6c7f",
   "metadata": {},
   "outputs": [],
   "source": [
    "random_forest_baseline_accuracy_train = evaluate_model(random_forest_baseline).mean()"
   ]
  },
  {
   "cell_type": "code",
   "execution_count": 171,
   "id": "dbb567a0",
   "metadata": {},
   "outputs": [],
   "source": [
    "random_forest_baseline_accuracy_valid = evaluate_model(random_forest_baseline, feat_valid, labels_valid).mean()"
   ]
  },
  {
   "cell_type": "code",
   "execution_count": 172,
   "id": "632e0ed2",
   "metadata": {},
   "outputs": [
    {
     "name": "stdout",
     "output_type": "stream",
     "text": [
      "Training set: 63.01 vs. Validation set: 47.74\n"
     ]
    }
   ],
   "source": [
    "print(f'Training set: {round(random_forest_baseline_accuracy_train * 100, 2)} \\\n",
    "vs. Validation set: {round(random_forest_baseline_accuracy_valid * 100, 2)}')"
   ]
  },
  {
   "cell_type": "markdown",
   "id": "856cfca3",
   "metadata": {},
   "source": [
    "Similar to the Decision Tree results, we observe overfitting for the baseline Random Forest. Hence, parameter tuning is applied to test several Random Forest Classifier. The tuning can be done with GridSearch:"
   ]
  },
  {
   "cell_type": "code",
   "execution_count": 175,
   "id": "47ffd162",
   "metadata": {},
   "outputs": [],
   "source": [
    "random_forest_params = {'n_estimators': [100, 500], 'max_depth': [5, 20]}"
   ]
  },
  {
   "cell_type": "code",
   "execution_count": 174,
   "id": "4cc3ecf0",
   "metadata": {},
   "outputs": [],
   "source": [
    "# with more computational power and a lot of time:\n",
    "# random_forest_params = {'n_estimators': [100, 500, 1000], 'max_depth': [5, 10, 20], 'max_features': [None, \"sqrt\", \"log2\"]}"
   ]
  },
  {
   "cell_type": "code",
   "execution_count": 176,
   "id": "1f7e5cce",
   "metadata": {},
   "outputs": [],
   "source": [
    "random_forest_grids = GridSearchCV(random_forest_baseline, param_grid = random_forest_params,\n",
    "                                   cv = stratified_cross_valid_folds, scoring = \"accuracy\", n_jobs = -1)"
   ]
  },
  {
   "cell_type": "code",
   "execution_count": 177,
   "id": "0d1b4865",
   "metadata": {},
   "outputs": [],
   "source": [
    "random_forest_grids_fitted = random_forest_grids.fit(feat_train, labels_train)"
   ]
  },
  {
   "cell_type": "code",
   "execution_count": 178,
   "id": "7cc06d79",
   "metadata": {},
   "outputs": [],
   "source": [
    "random_forest_grids_results = pd.DataFrame(random_forest_grids_fitted.cv_results_)"
   ]
  },
  {
   "cell_type": "code",
   "execution_count": 179,
   "id": "1360e8f1",
   "metadata": {},
   "outputs": [],
   "source": [
    "random_forest_grids_mean_results = np.array(random_forest_grids_results.mean_test_score).reshape(2, 2).T"
   ]
  },
  {
   "cell_type": "code",
   "execution_count": 180,
   "id": "004d886f",
   "metadata": {},
   "outputs": [
    {
     "data": {
      "image/png": "[encoded data removed]",
      "text/plain": [
       "<Figure size 1152x432 with 2 Axes>"
      ]
     },
     "metadata": {
      "needs_background": "light"
     },
     "output_type": "display_data"
    }
   ],
   "source": [
    "fig, ax = plt.subplots(figsize = (16, 6))\n",
    "sns.heatmap(random_forest_grids_mean_results, xticklabels = random_forest_params[\"max_depth\"],\n",
    "            yticklabels = random_forest_params[\"n_estimators\"],\n",
    "            linecolor = \"red\", linewidths = 1, cmap = \"viridis\", ax = ax)\n",
    "ax.set_xlabel(\"max_depth\")\n",
    "ax.set_ylabel(\"n_estimators\")\n",
    "plt.show()"
   ]
  },
  {
   "cell_type": "code",
   "execution_count": 181,
   "id": "f2ede4eb",
   "metadata": {},
   "outputs": [
    {
     "data": {
      "text/plain": [
       "array([[0.44420727, 0.62805236],\n",
       "       [0.44511883, 0.63663173]])"
      ]
     },
     "execution_count": 181,
     "metadata": {},
     "output_type": "execute_result"
    }
   ],
   "source": [
    "random_forest_grids_mean_results"
   ]
  },
  {
   "cell_type": "markdown",
   "id": "ce427799",
   "metadata": {},
   "source": [
    "As expected, the Random Forest's performance is better conpared to the single Decision Tree. However, an accuracy around 45 percent is still not fascinating.\n",
    "\n",
    "Due to time restrictions, we continue with a depth of 5 and 100 estimators. Assumption: higher depth increases overfitting (as seen for single Decision Tree) and larger number of estimators results do not yield any improvements (as indicated by the heatmap)."
   ]
  },
  {
   "cell_type": "code",
   "execution_count": 184,
   "id": "d9466f3d",
   "metadata": {},
   "outputs": [],
   "source": [
    "random_forest_final = RandomForestClassifier(n_estimators = 100, max_depth = 5,\n",
    "                                             random_state = 42, n_jobs = -1).fit(feat_train, labels_train)"
   ]
  },
  {
   "cell_type": "code",
   "execution_count": 185,
   "id": "a4cbee19",
   "metadata": {},
   "outputs": [],
   "source": [
    "random_forest_predictions = random_forest_final.predict(feat_valid)"
   ]
  },
  {
   "cell_type": "code",
   "execution_count": 186,
   "id": "bcc1bca8",
   "metadata": {},
   "outputs": [],
   "source": [
    "random_forest_confusion_matrix = confusion_matrix(labels_valid, random_forest_predictions)"
   ]
  },
  {
   "cell_type": "code",
   "execution_count": 187,
   "id": "0c6fb2f8",
   "metadata": {},
   "outputs": [],
   "source": [
    "random_forest_confusion_matrix_plot = ConfusionMatrixDisplay(random_forest_confusion_matrix,\n",
    "                                                        display_labels = np.array([\"draw\", \"home\", \"away\"]))"
   ]
  },
  {
   "cell_type": "code",
   "execution_count": 188,
   "id": "2f15f80e",
   "metadata": {},
   "outputs": [
    {
     "data": {
      "text/plain": [
       "<sklearn.metrics._plot.confusion_matrix.ConfusionMatrixDisplay at 0x2bf9813d7c0>"
      ]
     },
     "execution_count": 188,
     "metadata": {},
     "output_type": "execute_result"
    },
    {
     "data": {
      "image/png": "[encoded data removed]",
      "text/plain": [
       "<Figure size 432x288 with 2 Axes>"
      ]
     },
     "metadata": {
      "needs_background": "light"
     },
     "output_type": "display_data"
    }
   ],
   "source": [
    "random_forest_confusion_matrix_plot.plot()"
   ]
  },
  {
   "cell_type": "code",
   "execution_count": 189,
   "id": "462f79dc",
   "metadata": {
    "scrolled": false
   },
   "outputs": [
    {
     "name": "stdout",
     "output_type": "stream",
     "text": [
      "              precision    recall  f1-score   support\n",
      "\n",
      "           0       0.39      0.37      0.38      7824\n",
      "           1       0.46      0.47      0.47      7681\n",
      "           2       0.47      0.47      0.47      7807\n",
      "\n",
      "    accuracy                           0.44     23312\n",
      "   macro avg       0.44      0.44      0.44     23312\n",
      "weighted avg       0.44      0.44      0.44     23312\n",
      "\n"
     ]
    }
   ],
   "source": [
    "print(classification_report(labels_valid, random_forest_predictions, zero_division = 0))"
   ]
  },
  {
   "cell_type": "markdown",
   "id": "2461b46d",
   "metadata": {},
   "source": [
    "#### XGB Classifier"
   ]
  },
  {
   "cell_type": "markdown",
   "id": "4113da35",
   "metadata": {},
   "source": [
    "Next, a eXtreme Gradient Boosting Classifier is applied on the data.\n",
    "\n",
    "* **Gradient boosting** involves creating and adding new Decision Trees to the model sequentially. The new trees are created to correct the residual errors in the predictions from the previous trees.\n",
    "* The drawback to that model is that it tends to **overfit**.\n",
    "* To accomodate for that drawback, a weighting factor can be applied for the corrections by new trees. This weighting is called the **shrinkage factor** or **learning rate**. Common values for the learning rate range between **0.1 and 0.3**. But values less than 0.1 are feasible as well.\n",
    "* Lastly, **extreme** indicates the high computational speed.\n",
    "\n",
    "As for the Random Forest, we use 100 estimators and a depth of 5. Moreover, the following parameters (besides random_state & n_jobs are set:\n",
    "\n",
    "* learning_rate: see above.\n",
    "* objective (learning objective): **multi:softmax**, recommended for multiclass classification.\n",
    "* eval_metric (evaluation metric): **merror**, multiclass classification error rate.\n",
    "* use_label_encoder: deprecated, recommended value is 'False'.\n",
    "\n",
    "Sources:\n",
    "* https://xgboost.readthedocs.io/en/stable/parameter.html#general-parameters\n",
    "* https://machinelearningmastery.com/tune-learning-rate-for-gradient-boosting-with-xgboost-in-python/"
   ]
  },
  {
   "cell_type": "code",
   "execution_count": 122,
   "id": "900a5e13",
   "metadata": {},
   "outputs": [],
   "source": [
    "xgb_classifier = xgb.XGBClassifier(n_estimators = 100, max_depth = 5, learning_rate = 0.1, objective = \"multi:softmax\",\n",
    "                                   eval_metric = \"merror\", random_state = 42, n_jobs = -1,\n",
    "                                   use_label_encoder = False).fit(feat_train, labels_train)"
   ]
  },
  {
   "cell_type": "code",
   "execution_count": 193,
   "id": "1f597107",
   "metadata": {},
   "outputs": [],
   "source": [
    "xgb_classifier_accuracy_train = evaluate_model(xgb_classifier).mean()"
   ]
  },
  {
   "cell_type": "code",
   "execution_count": null,
   "id": "6cbd3ec5",
   "metadata": {},
   "outputs": [],
   "source": [
    "xgb_classifier_accuracy_valid = evaluate_model(xgb_classifier, feat_valid, labels_valid).mean()"
   ]
  },
  {
   "cell_type": "code",
   "execution_count": null,
   "id": "88bc1a7b",
   "metadata": {},
   "outputs": [],
   "source": [
    "print(f'Training set: {round(xgb_classifier_accuracy_train * 100, 2)} \\\n",
    "vs. Validation set: {round(xgb_classifier_accuracy_valid * 100, 2)}')"
   ]
  },
  {
   "cell_type": "markdown",
   "id": "1bbfc514",
   "metadata": {},
   "source": [
    "As expected quite similar results for training and validation set. Next, make predictions:"
   ]
  },
  {
   "cell_type": "code",
   "execution_count": 194,
   "id": "3d083405",
   "metadata": {},
   "outputs": [],
   "source": [
    "xgb_classifier_predictions = xgb_classifier.predict(feat_valid)"
   ]
  },
  {
   "cell_type": "code",
   "execution_count": 195,
   "id": "11a907b2",
   "metadata": {},
   "outputs": [],
   "source": [
    "xgb_classifier_confusion_matrix = confusion_matrix(labels_valid, xgb_classifier_predictions)"
   ]
  },
  {
   "cell_type": "code",
   "execution_count": 196,
   "id": "c93fffd2",
   "metadata": {},
   "outputs": [],
   "source": [
    "xgb_classifier_confusion_matrix_plot = ConfusionMatrixDisplay(xgb_classifier_confusion_matrix,\n",
    "                                                        display_labels = np.array([\"draw\", \"home\", \"away\"]))"
   ]
  },
  {
   "cell_type": "code",
   "execution_count": 197,
   "id": "b3bb6f17",
   "metadata": {},
   "outputs": [
    {
     "data": {
      "text/plain": [
       "<sklearn.metrics._plot.confusion_matrix.ConfusionMatrixDisplay at 0x13231a8f3d0>"
      ]
     },
     "execution_count": 197,
     "metadata": {},
     "output_type": "execute_result"
    },
    {
     "data": {
      "image/png": "[encoded data removed]",
      "text/plain": [
       "<Figure size 432x288 with 2 Axes>"
      ]
     },
     "metadata": {
      "needs_background": "light"
     },
     "output_type": "display_data"
    }
   ],
   "source": [
    "xgb_classifier_confusion_matrix_plot.plot()"
   ]
  },
  {
   "cell_type": "code",
   "execution_count": 308,
   "id": "f6eef65c",
   "metadata": {},
   "outputs": [
    {
     "name": "stdout",
     "output_type": "stream",
     "text": [
      "              precision    recall  f1-score   support\n",
      "\n",
      "           0       0.48      0.46      0.47      7674\n",
      "           1       0.53      0.55      0.54      7878\n",
      "           2       0.54      0.54      0.54      7760\n",
      "\n",
      "    accuracy                           0.52     23312\n",
      "   macro avg       0.52      0.52      0.52     23312\n",
      "weighted avg       0.52      0.52      0.52     23312\n",
      "\n"
     ]
    }
   ],
   "source": [
    "print(classification_report(labels_valid, xgb_classifier_predictions))"
   ]
  },
  {
   "cell_type": "markdown",
   "id": "f9ad5b44",
   "metadata": {},
   "source": [
    "Eventually, we use the XGB Classifier to make predictions using the test set:"
   ]
  },
  {
   "cell_type": "code",
   "execution_count": 304,
   "id": "b8780795",
   "metadata": {},
   "outputs": [],
   "source": [
    "xgb_classifier_predictions_test = xgb_classifier.predict_proba(features_test_scaled)"
   ]
  },
  {
   "cell_type": "code",
   "execution_count": 305,
   "id": "377f83d8",
   "metadata": {},
   "outputs": [],
   "source": [
    "submission_xgb_classifier = pd.DataFrame(xgb_classifier_predictions_test, columns = [\"draw\", \"home\", \"away\"])"
   ]
  },
  {
   "cell_type": "code",
   "execution_count": 307,
   "id": "04064225",
   "metadata": {},
   "outputs": [],
   "source": [
    "submission_xgb_classifier = pd.concat([pd.Series(test_data.index, name = 'id'), submission_xgb_classifier], axis = 1)"
   ]
  },
  {
   "cell_type": "code",
   "execution_count": 203,
   "id": "f4843768",
   "metadata": {},
   "outputs": [],
   "source": [
    "# xgb_classifier.to_csv(\"submission_xgb.csv\", index = False)"
   ]
  },
  {
   "cell_type": "markdown",
   "id": "feb22201",
   "metadata": {},
   "source": [
    "#### Extension: Neural Network"
   ]
  },
  {
   "cell_type": "markdown",
   "id": "7de253ea",
   "metadata": {},
   "source": [
    "In the next cells, a simple **neural network** is constructed to check whether it could be the XGB classifier."
   ]
  },
  {
   "cell_type": "markdown",
   "id": "5085dc50",
   "metadata": {},
   "source": [
    "Set seed for reproducibility:"
   ]
  },
  {
   "cell_type": "code",
   "execution_count": 210,
   "id": "45c32a3a",
   "metadata": {},
   "outputs": [],
   "source": [
    "tensorflow.random.set_seed(69)"
   ]
  },
  {
   "cell_type": "markdown",
   "id": "39384d90",
   "metadata": {},
   "source": [
    "Encode the labels:"
   ]
  },
  {
   "cell_type": "code",
   "execution_count": 211,
   "id": "1c514b5a",
   "metadata": {},
   "outputs": [],
   "source": [
    "labels_train_deep_learning = to_categorical(labels_train, num_classes = 3)\n",
    "labels_valid_deep_learning = to_categorical(labels_valid, num_classes = 3)"
   ]
  },
  {
   "cell_type": "markdown",
   "id": "c67ac74d",
   "metadata": {},
   "source": [
    "Following, a function is define to create the neural network:"
   ]
  },
  {
   "cell_type": "code",
   "execution_count": 212,
   "id": "9fd0801b",
   "metadata": {},
   "outputs": [],
   "source": [
    "def design_neural_network(inputs_df, labels_df):\n",
    "    # Enable stacking of layers and specify name of neural network:\n",
    "    network = Sequential(name = 'deep_classifier')\n",
    "    \n",
    "    # Input Layer:\n",
    "    network.add(InputLayer(input_shape = (inputs_df.shape[1], )))\n",
    "    \n",
    "    # Hidden Layers. Dropout layers randomly set input units to 0 with a frequency of 0.2 (prevent overfitting).\n",
    "    network.add(Dense(1024, activation = \"relu\"))\n",
    "    network.add(Dropout(0.2))\n",
    "    network.add(Dense(1024, activation = \"relu\"))\n",
    "    network.add(Dropout(0.2))\n",
    "    network.add(Dense(1024, activation = \"relu\"))\n",
    "    \n",
    "    # Output Layer:\n",
    "    network.add(Dense(labels_df.shape[1], activation = \"softmax\"))\n",
    "    \n",
    "    # Loss function: crossentropy loss as there are more than two target classes\n",
    "    loss_func = tensorflow.keras.losses.CategoricalCrossentropy()\n",
    "    \n",
    "    # Optimizer: Adam algorithm (stochastic gradient descent method)\n",
    "    optimizer = Adam(learning_rate = 0.001)\n",
    "    \n",
    "    # Metrics:\n",
    "    accuracy = tensorflow.keras.metrics.CategoricalAccuracy(name = \"Accuracy\")\n",
    "    \n",
    "    # Compiling\n",
    "    network.compile(loss = loss_func,  optimizer = optimizer, metrics = [accuracy])\n",
    "    \n",
    "    return network"
   ]
  },
  {
   "cell_type": "markdown",
   "id": "ac2124ec",
   "metadata": {},
   "source": [
    "Add callback to stop training when metric has stopped to improve:"
   ]
  },
  {
   "cell_type": "code",
   "execution_count": 213,
   "id": "a94debbf",
   "metadata": {},
   "outputs": [],
   "source": [
    "earlystop = EarlyStopping(min_delta = 0.001, patience = 20, restore_best_weights = True)"
   ]
  },
  {
   "cell_type": "markdown",
   "id": "c2c27e48",
   "metadata": {},
   "source": [
    "Instantiate neural network:"
   ]
  },
  {
   "cell_type": "code",
   "execution_count": 214,
   "id": "0fe8d704",
   "metadata": {},
   "outputs": [],
   "source": [
    "deep_classifier = design_neural_network(feat_train, labels_train_deep_learning)"
   ]
  },
  {
   "cell_type": "markdown",
   "id": "5d958520",
   "metadata": {},
   "source": [
    "Fit model to the data. We will work with 10 epochs to avoid long computation time."
   ]
  },
  {
   "cell_type": "code",
   "execution_count": 215,
   "id": "53fe3d77",
   "metadata": {},
   "outputs": [],
   "source": [
    "epochs_network = 10"
   ]
  },
  {
   "cell_type": "code",
   "execution_count": 216,
   "id": "1498850d",
   "metadata": {},
   "outputs": [],
   "source": [
    "deep_classifier_history = deep_classifier.fit(feat_train, labels_train_deep_learning, batch_size = 100,\n",
    "                                             epochs = epochs_network, callbacks = earlystop,\n",
    "                                             validation_data = (feat_valid, labels_valid_deep_learning),\n",
    "                                             verbose = 0)"
   ]
  },
  {
   "cell_type": "markdown",
   "id": "74affee0",
   "metadata": {},
   "source": [
    "Visualize the results:"
   ]
  },
  {
   "cell_type": "code",
   "execution_count": 217,
   "id": "5a200d40",
   "metadata": {},
   "outputs": [
    {
     "data": {
      "image/png": "[encoded data removed]",
      "text/plain": [
       "<Figure size 1152x720 with 2 Axes>"
      ]
     },
     "metadata": {
      "needs_background": "light"
     },
     "output_type": "display_data"
    }
   ],
   "source": [
    "fig, axes = plt.subplots(2, 1, figsize = (16, 10), sharex = True)\n",
    "axes[0].plot(np.arange(1, len(deep_classifier_history.epoch) + 1), deep_classifier_history.history['loss'],\n",
    "             label = 'Training Loss')\n",
    "axes[0].plot(np.arange(1, len(deep_classifier_history.epoch) + 1), deep_classifier_history.history['val_loss'],\n",
    "             label = 'Validation Loss')\n",
    "axes[0].set_title(\"Loss\")\n",
    "\n",
    "axes[1].plot(np.arange(1, len(deep_classifier_history.epoch) + 1), deep_classifier_history.history['Accuracy'],\n",
    "             label = 'Training Accuracy')\n",
    "axes[1].plot(np.arange(1, len(deep_classifier_history.epoch) + 1), deep_classifier_history.history['val_Accuracy'],\n",
    "             label = 'Validation Accuracy')\n",
    "axes[1].set_title('Accuracy')\n",
    "\n",
    "axes[1].legend(['Training', 'Validation'], loc = 'lower right')\n",
    "plt.suptitle('Evaluation metrics')\n",
    "plt.xlabel('Epochs')\n",
    "\n",
    "plt.show()"
   ]
  },
  {
   "cell_type": "markdown",
   "id": "01f089cc",
   "metadata": {},
   "source": [
    "Strong overfitting. However, we will continue with predictions:"
   ]
  },
  {
   "cell_type": "code",
   "execution_count": 260,
   "id": "c55fd21a",
   "metadata": {},
   "outputs": [],
   "source": [
    "deep_classifier_predictions_probabilities = deep_classifier.predict(feat_valid)"
   ]
  },
  {
   "cell_type": "code",
   "execution_count": 261,
   "id": "8a643911",
   "metadata": {},
   "outputs": [],
   "source": [
    "deep_classifier_predictions = np.argmax(deep_classifier_predictions_probabilities, axis = 1)"
   ]
  },
  {
   "cell_type": "markdown",
   "id": "76d721af",
   "metadata": {},
   "source": [
    "Evaluation:"
   ]
  },
  {
   "cell_type": "code",
   "execution_count": 262,
   "id": "0a361055",
   "metadata": {},
   "outputs": [],
   "source": [
    "deep_classifier_confusion_matrix = confusion_matrix(labels_valid, deep_classifier_predictions)"
   ]
  },
  {
   "cell_type": "code",
   "execution_count": 263,
   "id": "b1e913e2",
   "metadata": {},
   "outputs": [],
   "source": [
    "deep_classifier_confusion_matrix_plot = ConfusionMatrixDisplay(deep_classifier_confusion_matrix,\n",
    "                                                        display_labels = np.array([\"draw\", \"home\", \"away\"]))"
   ]
  },
  {
   "cell_type": "code",
   "execution_count": 264,
   "id": "d8926bc1",
   "metadata": {},
   "outputs": [
    {
     "data": {
      "text/plain": [
       "<sklearn.metrics._plot.confusion_matrix.ConfusionMatrixDisplay at 0x1323213c7f0>"
      ]
     },
     "execution_count": 264,
     "metadata": {},
     "output_type": "execute_result"
    },
    {
     "data": {
      "image/png": "[encoded data removed]",
      "text/plain": [
       "<Figure size 432x288 with 2 Axes>"
      ]
     },
     "metadata": {
      "needs_background": "light"
     },
     "output_type": "display_data"
    }
   ],
   "source": [
    "deep_classifier_confusion_matrix_plot.plot()"
   ]
  },
  {
   "cell_type": "code",
   "execution_count": 265,
   "id": "cd86cdb9",
   "metadata": {},
   "outputs": [
    {
     "name": "stdout",
     "output_type": "stream",
     "text": [
      "              precision    recall  f1-score   support\n",
      "\n",
      "           0       0.54      0.54      0.54      7674\n",
      "           1       0.51      0.50      0.50      7878\n",
      "           2       0.54      0.55      0.54      7760\n",
      "\n",
      "    accuracy                           0.53     23312\n",
      "   macro avg       0.53      0.53      0.53     23312\n",
      "weighted avg       0.53      0.53      0.53     23312\n",
      "\n"
     ]
    }
   ],
   "source": [
    "print(classification_report(labels_valid, deep_classifier_predictions))"
   ]
  },
  {
   "cell_type": "markdown",
   "id": "69f212f7",
   "metadata": {},
   "source": [
    "Accuracy above 50 percent, and hence not really better than the XGB classifier. However, lets make predictions on the test data and save the results:"
   ]
  },
  {
   "cell_type": "code",
   "execution_count": 290,
   "id": "e35b36e6",
   "metadata": {},
   "outputs": [],
   "source": [
    "deep_classifier_predictions_test = deep_classifier.predict(features_test_scaled)"
   ]
  },
  {
   "cell_type": "code",
   "execution_count": 297,
   "id": "686c4ecd",
   "metadata": {},
   "outputs": [],
   "source": [
    "submission_deep_classifier = pd.DataFrame(deep_classifier_predictions_test, columns = [\"draw\", \"home\", \"away\"])"
   ]
  },
  {
   "cell_type": "code",
   "execution_count": 298,
   "id": "9e2cfe9c",
   "metadata": {},
   "outputs": [],
   "source": [
    "submission_deep_classifier = pd.concat([pd.Series(test_data.index, name = 'id'), submission_deep_classifier], axis = 1)"
   ]
  },
  {
   "cell_type": "markdown",
   "id": "e1794a7e",
   "metadata": {},
   "source": [
    "Problem with missing values. Replace with all zeros until better solution:"
   ]
  },
  {
   "cell_type": "code",
   "execution_count": 299,
   "id": "63914809",
   "metadata": {},
   "outputs": [
    {
     "data": {
      "text/plain": [
       "id          0\n",
       "draw    10132\n",
       "home    10132\n",
       "away    10132\n",
       "dtype: int64"
      ]
     },
     "execution_count": 299,
     "metadata": {},
     "output_type": "execute_result"
    }
   ],
   "source": [
    "submission_deep_classifier.isna().sum()"
   ]
  },
  {
   "cell_type": "code",
   "execution_count": 300,
   "id": "f1de4f20",
   "metadata": {},
   "outputs": [],
   "source": [
    "submission_deep_classifier.fillna(value = 0, inplace = True)"
   ]
  },
  {
   "cell_type": "code",
   "execution_count": 302,
   "id": "8ef4e63e",
   "metadata": {},
   "outputs": [],
   "source": [
    "submission_deep_classifier.to_csv(\"submission_nn.csv\", index = False)"
   ]
  }
 ],
 "metadata": {
  "kernelspec": {
   "display_name": "Python 3",
   "language": "python",
   "name": "python3"
  },
  "language_info": {
   "codemirror_mode": {
    "name": "ipython",
    "version": 3
   },
   "file_extension": ".py",
   "mimetype": "text/x-python",
   "name": "python",
   "nbconvert_exporter": "python",
   "pygments_lexer": "ipython3",
   "version": "3.8.8"
  }
 },
 "nbformat": 4,
 "nbformat_minor": 5
}
