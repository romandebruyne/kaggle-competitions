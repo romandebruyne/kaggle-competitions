{
 "cells": [
  {
   "cell_type": "markdown",
   "id": "435f52e6",
   "metadata": {
    "id": "435f52e6"
   },
   "source": [
    "# Kaggle - Football Prediction"
   ]
  },
  {
   "cell_type": "markdown",
   "id": "52977a9c",
   "metadata": {
    "id": "52977a9c"
   },
   "source": [
    "## Introduction"
   ]
  },
  {
   "cell_type": "markdown",
   "id": "80a69c39",
   "metadata": {
    "id": "80a69c39"
   },
   "source": [
    "This notebook was created to participate in the `Football Match Probability Prediction` competition on `kaggle.com` (https://www.kaggle.com/competitions/football-match-probability-prediction/data). The competition's goal is to **use machine learning models** to predict the probabilities of the outcome of football matches."
   ]
  },
  {
   "cell_type": "markdown",
   "id": "981fd01e",
   "metadata": {
    "id": "981fd01e"
   },
   "source": [
    "## Start of the project"
   ]
  },
  {
   "cell_type": "markdown",
   "id": "b51d6be1",
   "metadata": {
    "id": "b51d6be1"
   },
   "source": [
    "### Import modules"
   ]
  },
  {
   "cell_type": "code",
   "execution_count": 1,
   "id": "b2755b2a",
   "metadata": {
    "id": "b2755b2a"
   },
   "outputs": [],
   "source": [
    "import pandas as pd\n",
    "import numpy as np"
   ]
  },
  {
   "cell_type": "code",
   "execution_count": 2,
   "id": "b5d9f8d2",
   "metadata": {
    "id": "b5d9f8d2"
   },
   "outputs": [],
   "source": [
    "import matplotlib.pyplot as plt\n",
    "import seaborn as sns"
   ]
  },
  {
   "cell_type": "code",
   "execution_count": 3,
   "id": "4980b848",
   "metadata": {
    "id": "4980b848"
   },
   "outputs": [],
   "source": [
    "from sklearn.preprocessing import StandardScaler, MinMaxScaler\n",
    "from sklearn.model_selection import train_test_split\n",
    "from sklearn.metrics import log_loss, confusion_matrix, ConfusionMatrixDisplay\n",
    "from sklearn.model_selection import KFold, StratifiedKFold, cross_val_score, GridSearchCV"
   ]
  },
  {
   "cell_type": "code",
   "execution_count": 4,
   "id": "7471f8e4",
   "metadata": {
    "id": "7471f8e4"
   },
   "outputs": [],
   "source": [
    "from imblearn.over_sampling import RandomOverSampler"
   ]
  },
  {
   "cell_type": "code",
   "execution_count": 5,
   "id": "478e0e1c",
   "metadata": {
    "id": "478e0e1c"
   },
   "outputs": [],
   "source": [
    "from sklearn.tree import DecisionTreeClassifier\n",
    "from sklearn.ensemble import RandomForestClassifier\n",
    "import xgboost as xgb"
   ]
  },
  {
   "cell_type": "code",
   "execution_count": 155,
   "id": "67d924c3",
   "metadata": {
    "id": "67d924c3"
   },
   "outputs": [],
   "source": [
    "import tensorflow\n",
    "from keras.utils.np_utils import to_categorical\n",
    "from tensorflow.keras.models import Sequential\n",
    "from tensorflow.keras.layers import InputLayer, Dense, Dropout\n",
    "from tensorflow.keras.optimizers import Adam\n",
    "from tensorflow.keras.callbacks import EarlyStopping\n",
    "from tensorflow.keras.losses import CategoricalCrossentropy"
   ]
  },
  {
   "cell_type": "markdown",
   "id": "d9be4a42",
   "metadata": {
    "id": "d9be4a42"
   },
   "source": [
    "### Import data"
   ]
  },
  {
   "cell_type": "markdown",
   "id": "3a63f463",
   "metadata": {
    "id": "3a63f463"
   },
   "source": [
    "To avoid warnings, the data types for the descriptive features (see below) are defined before importing the data:\n",
    "\n",
    "* target - draw, home or away depending on what team won the game.\n",
    "* home_team_name - name of the Home team.\n",
    "* away_team_name - name of the Away team.\n",
    "* match_date - match date (UTC).\n",
    "* league_name - league name.\n",
    "* league_id - league id; note that league names can be identical for two differents id.\n",
    "* is_cup - if 1 the match is played for a cup competition.\n",
    "* home_team_coach_id - id of the Home team coach.\n",
    "* away_team_coach_id - id of the Away team coach."
   ]
  },
  {
   "cell_type": "code",
   "execution_count": 7,
   "id": "df004c8f",
   "metadata": {
    "id": "df004c8f"
   },
   "outputs": [],
   "source": [
    "column_dtypes = {'target': 'object', 'home_team_name': 'object', 'away_team_name': 'object', 'league_name': 'object',\n",
    "          'is_cup': 'int64', 'home_team_coach_id': 'float64', 'away_team_coach_id': 'float64'}"
   ]
  },
  {
   "cell_type": "code",
   "execution_count": 8,
   "id": "cd0df1f7",
   "metadata": {
    "id": "cd0df1f7"
   },
   "outputs": [],
   "source": [
    "train_data = pd.read_csv('train.csv', dtype=column_dtypes, index_col=[0], header=0, parse_dates=['match_date'])"
   ]
  },
  {
   "cell_type": "code",
   "execution_count": 9,
   "id": "d7903130",
   "metadata": {
    "id": "d7903130"
   },
   "outputs": [],
   "source": [
    "train_data.rename_axis(None, inplace=True)"
   ]
  },
  {
   "cell_type": "code",
   "execution_count": 10,
   "id": "d2d35887",
   "metadata": {
    "id": "d2d35887"
   },
   "outputs": [],
   "source": [
    "del column_dtypes['target']"
   ]
  },
  {
   "cell_type": "code",
   "execution_count": 11,
   "id": "d948b32b",
   "metadata": {
    "id": "d948b32b"
   },
   "outputs": [],
   "source": [
    "test_data = pd.read_csv('test.csv', dtype=column_dtypes, index_col=[0], header=0, parse_dates=['match_date'])"
   ]
  },
  {
   "cell_type": "code",
   "execution_count": 12,
   "id": "3a109640",
   "metadata": {
    "id": "3a109640"
   },
   "outputs": [],
   "source": [
    "test_data.rename_axis(None, inplace=True)"
   ]
  },
  {
   "cell_type": "markdown",
   "id": "521cb267",
   "metadata": {
    "id": "521cb267"
   },
   "source": [
    "### Exploratory Data Analysis"
   ]
  },
  {
   "cell_type": "markdown",
   "id": "776ae456",
   "metadata": {
    "id": "776ae456"
   },
   "source": [
    "#### Target classes"
   ]
  },
  {
   "cell_type": "code",
   "execution_count": 13,
   "id": "c0335b4d",
   "metadata": {
    "colab": {
     "base_uri": "https://localhost:8080/",
     "height": 210
    },
    "id": "c0335b4d",
    "outputId": "ad336d5b-32bb-4f0e-8c8a-e2b5f1ca6aa4"
   },
   "outputs": [
    {
     "data": {
      "text/plain": [
       "home    43.369269\n",
       "away    31.705998\n",
       "draw    24.924733\n",
       "Name: target, dtype: float64"
      ]
     },
     "execution_count": 13,
     "metadata": {},
     "output_type": "execute_result"
    }
   ],
   "source": [
    "train_data['target'].value_counts(normalize=True, sort=True) * 100"
   ]
  },
  {
   "cell_type": "code",
   "execution_count": 14,
   "id": "97e636b5",
   "metadata": {
    "colab": {
     "base_uri": "https://localhost:8080/",
     "height": 543
    },
    "id": "97e636b5",
    "outputId": "40271c70-d10c-47ad-f0db-d98a57fcb474"
   },
   "outputs": [
    {
     "data": {
      "image/png": "[encoded data removed]",
      "text/plain": [
       "<Figure size 1152x432 with 1 Axes>"
      ]
     },
     "metadata": {
      "needs_background": "light"
     },
     "output_type": "display_data"
    }
   ],
   "source": [
    "fig, ax = plt.subplots(figsize=(16, 6))\n",
    "sns.countplot(data=train_data, x='target', ax=ax)\n",
    "plt.show()"
   ]
  },
  {
   "cell_type": "markdown",
   "id": "8bce779d",
   "metadata": {
    "id": "8bce779d"
   },
   "source": [
    "**Three classes**: home team win, away team win and draw. There might be a problem of label imbalance. Keep that in mind (will be addressed during data preprocessing). Moreover, it might be necessary to encode the strings as integer values, so that all machine learning models are able to process the targets."
   ]
  },
  {
   "cell_type": "code",
   "execution_count": 15,
   "id": "1d47076e",
   "metadata": {
    "id": "1d47076e"
   },
   "outputs": [],
   "source": [
    "train_data['target'] = train_data['target'].map({'draw': 0, 'home': 1, 'away': 2})"
   ]
  },
  {
   "cell_type": "markdown",
   "id": "98a9b090",
   "metadata": {
    "id": "98a9b090"
   },
   "source": [
    "#### Features"
   ]
  },
  {
   "cell_type": "markdown",
   "id": "187dc341",
   "metadata": {
    "id": "187dc341"
   },
   "source": [
    "Stated on the Kaggle competition webpage: *'The features provided are divided into two parts: the descriptive features and the historical features. Descriptive features are point-in-time descriptions of the match that has to be predicted. Historical features contain past information of the 10 games previously played by the Home and the Away team.'*\n",
    "\n",
    "Hence, we differentiate between descriptive as well as historical features during the EDA."
   ]
  },
  {
   "cell_type": "code",
   "execution_count": 16,
   "id": "0b4deb15",
   "metadata": {
    "id": "0b4deb15"
   },
   "outputs": [],
   "source": [
    "desc_features = list(train_data.columns[1:9])"
   ]
  },
  {
   "cell_type": "code",
   "execution_count": 17,
   "id": "fdf762e1",
   "metadata": {
    "id": "fdf762e1"
   },
   "outputs": [],
   "source": [
    "hist_features = list(train_data.columns[9:])"
   ]
  },
  {
   "cell_type": "markdown",
   "id": "dce2aa4f",
   "metadata": {
    "id": "dce2aa4f"
   },
   "source": [
    "#### Descriptive features"
   ]
  },
  {
   "cell_type": "code",
   "execution_count": 18,
   "id": "57c11973",
   "metadata": {
    "colab": {
     "base_uri": "https://localhost:8080/"
    },
    "id": "57c11973",
    "outputId": "00bd85ec-a1bd-42d5-d616-740738dbb471",
    "scrolled": true
   },
   "outputs": [],
   "source": [
    "# train_data[desc_features].info()"
   ]
  },
  {
   "cell_type": "markdown",
   "id": "2bba52ed",
   "metadata": {
    "id": "2bba52ed"
   },
   "source": [
    "As indicated by the table, there are missing values:"
   ]
  },
  {
   "cell_type": "code",
   "execution_count": 19,
   "id": "449a4c2a",
   "metadata": {
    "colab": {
     "base_uri": "https://localhost:8080/"
    },
    "id": "449a4c2a",
    "outputId": "8fe0d613-1229-4b55-ea71-ac5ad71c1113"
   },
   "outputs": [
    {
     "name": "stdout",
     "output_type": "stream",
     "text": [
      "home_team_name: 1 missing values\n",
      "away_team_name: 1 missing values\n",
      "match_date: 0 missing values\n",
      "league_name: 1 missing values\n",
      "league_id: 0 missing values\n",
      "is_cup: 0 missing values\n",
      "home_team_coach_id: 21721 missing values\n",
      "away_team_coach_id: 21815 missing values\n"
     ]
    }
   ],
   "source": [
    "for col in desc_features:\n",
    "    print(f'{col}: {train_data[col].isnull().sum()} missing values')"
   ]
  },
  {
   "cell_type": "markdown",
   "id": "2a8dcd6e",
   "metadata": {
    "id": "2a8dcd6e"
   },
   "source": [
    "Missing value in features `home_team_name`, `away_team_name` and `league_name` all belong to same index. Hence, the row will be removed from dataset."
   ]
  },
  {
   "cell_type": "code",
   "execution_count": 20,
   "id": "31c69e91",
   "metadata": {
    "id": "31c69e91"
   },
   "outputs": [],
   "source": [
    "# train_data[train_data['home_team_name'].isnull()].index[0]"
   ]
  },
  {
   "cell_type": "code",
   "execution_count": 21,
   "id": "fd2361d7",
   "metadata": {
    "id": "fd2361d7"
   },
   "outputs": [],
   "source": [
    "# train_data[train_data['away_team_name'].isna()].index[0]"
   ]
  },
  {
   "cell_type": "code",
   "execution_count": 22,
   "id": "50bfbe71",
   "metadata": {
    "id": "50bfbe71"
   },
   "outputs": [],
   "source": [
    "# train_data[train_data['league_name'].isna()].index[0]"
   ]
  },
  {
   "cell_type": "code",
   "execution_count": 23,
   "id": "aaa7c9e4",
   "metadata": {
    "id": "aaa7c9e4"
   },
   "outputs": [],
   "source": [
    "train_data.drop(index=train_data[train_data['home_team_name'].isnull()].index[0], axis=0, inplace=True)"
   ]
  },
  {
   "cell_type": "markdown",
   "id": "4ee51f37",
   "metadata": {
    "id": "4ee51f37"
   },
   "source": [
    "Missing values in the remaining two features `home_team_coach_id` & `away_team_coach_id` are not relevant, as they will be removed in the next step. Assumption: id-features do not contain useful information when trying to predict the outcome of football matches. Moreover, names of teams are assumed to have no impact. Drop the features as well."
   ]
  },
  {
   "cell_type": "code",
   "execution_count": 24,
   "id": "a6b189fd",
   "metadata": {
    "colab": {
     "base_uri": "https://localhost:8080/"
    },
    "id": "a6b189fd",
    "outputId": "c4cfce91-bc2a-4724-8df4-e1f5de426e5e"
   },
   "outputs": [
    {
     "name": "stdout",
     "output_type": "stream",
     "text": [
      "Correlation between target and league_id: 0.01\n",
      "Correlation between target and home_team_coach_id: 0.02\n",
      "Correlation between target and away_team_coach_id: -0.01\n"
     ]
    }
   ],
   "source": [
    "for column in ['league_id', 'home_team_coach_id', 'away_team_coach_id']:\n",
    "    print(f'Correlation between target and {column}: {round(train_data[[\"target\", column]].corr().iloc[0, 1], 2)}')"
   ]
  },
  {
   "cell_type": "code",
   "execution_count": 25,
   "id": "91ae0972",
   "metadata": {
    "id": "91ae0972"
   },
   "outputs": [],
   "source": [
    "train_data.drop(columns = ['home_team_name', 'away_team_name', 'league_name', 'league_id',\n",
    "                           'home_team_coach_id', 'away_team_coach_id'], axis=1, inplace=True)"
   ]
  },
  {
   "cell_type": "code",
   "execution_count": 26,
   "id": "ec6db0f6",
   "metadata": {
    "id": "ec6db0f6"
   },
   "outputs": [],
   "source": [
    "test_data.drop(columns = ['home_team_name', 'away_team_name', 'league_name', 'league_id',\n",
    "                          'home_team_coach_id', 'away_team_coach_id'], axis=1, inplace=True)"
   ]
  },
  {
   "cell_type": "markdown",
   "id": "a8576c3e",
   "metadata": {
    "id": "a8576c3e"
   },
   "source": [
    "#### Historical features"
   ]
  },
  {
   "cell_type": "code",
   "execution_count": 27,
   "id": "3928ba44",
   "metadata": {
    "colab": {
     "base_uri": "https://localhost:8080/"
    },
    "id": "3928ba44",
    "outputId": "e14526f8-b51c-4533-c727-d712a1636ebf"
   },
   "outputs": [],
   "source": [
    "# train_data[hist_features].info()"
   ]
  },
  {
   "cell_type": "markdown",
   "id": "6ab8a78f",
   "metadata": {
    "id": "6ab8a78f"
   },
   "source": [
    "Are there missing values for the historical features as well?"
   ]
  },
  {
   "cell_type": "code",
   "execution_count": 28,
   "id": "d46b40a1",
   "metadata": {
    "id": "d46b40a1"
   },
   "outputs": [],
   "source": [
    "#for col in hist_features:\n",
    "#    print(f'{col}: {train_data[col].isnull().sum()} missing values')"
   ]
  },
  {
   "cell_type": "markdown",
   "id": "5bb5b070",
   "metadata": {
    "id": "5bb5b070"
   },
   "source": [
    "There are a lot of missing values (see also cells below). They will be addressed during the following examination."
   ]
  },
  {
   "cell_type": "code",
   "execution_count": 29,
   "id": "b294f05c",
   "metadata": {
    "colab": {
     "base_uri": "https://localhost:8080/"
    },
    "id": "b294f05c",
    "outputId": "39d9c989-3d7c-4e3f-b9f4-5deb0527f5c9"
   },
   "outputs": [
    {
     "name": "stdout",
     "output_type": "stream",
     "text": [
      "Training data contains 1,673,716 missing values.\n"
     ]
    }
   ],
   "source": [
    "print('Training data contains {:,.0f} missing values.'.format(sum(train_data.isna().sum())))"
   ]
  },
  {
   "cell_type": "code",
   "execution_count": 30,
   "id": "fa96fe89",
   "metadata": {
    "colab": {
     "base_uri": "https://localhost:8080/"
    },
    "id": "fa96fe89",
    "outputId": "79988580-11c9-40d1-ea0b-95da613857c7"
   },
   "outputs": [
    {
     "name": "stdout",
     "output_type": "stream",
     "text": [
      "That represents 15.1% percent of the training dataset.\n"
     ]
    }
   ],
   "source": [
    "print(f'That represents {round(sum(train_data.isna().sum()) / len(train_data), 1)}% percent of the training dataset.')"
   ]
  },
  {
   "cell_type": "markdown",
   "id": "8d7245d2",
   "metadata": {
    "id": "d06e94bb"
   },
   "source": [
    "Due to vast amount of features the examination is **divided into several units**."
   ]
  },
  {
   "cell_type": "markdown",
   "id": "d06e94bb",
   "metadata": {
    "id": "d06e94bb"
   },
   "source": [
    "<u>home_team_history_match_date_X</u>\n",
    "* First ten features are related to historical match dates (categorical feature).\n",
    "* Each entry is a date. Hence, the data type is changed.\n",
    "* Missing values are replaced with the mode value."
   ]
  },
  {
   "cell_type": "code",
   "execution_count": 31,
   "id": "46783449",
   "metadata": {
    "id": "46783449"
   },
   "outputs": [],
   "source": [
    "# train_data[hist_features[0:10]].info()"
   ]
  },
  {
   "cell_type": "code",
   "execution_count": 32,
   "id": "e9d24d4d",
   "metadata": {},
   "outputs": [],
   "source": [
    "for feat in hist_features[0:10]:\n",
    "    train_data[feat].fillna(train_data[feat].mode()[0], inplace=True)\n",
    "    test_data[feat].fillna(test_data[feat].mode()[0], inplace=True)"
   ]
  },
  {
   "cell_type": "code",
   "execution_count": 33,
   "id": "fb37e7af",
   "metadata": {
    "id": "fb37e7af"
   },
   "outputs": [],
   "source": [
    "train_data[hist_features[0:10]] = train_data[hist_features[0:10]].astype('datetime64[ns]')"
   ]
  },
  {
   "cell_type": "code",
   "execution_count": 34,
   "id": "bb861c38",
   "metadata": {
    "id": "bb861c38"
   },
   "outputs": [],
   "source": [
    "test_data[hist_features[0:10]] = test_data[hist_features[0:10]].astype('datetime64[ns]')"
   ]
  },
  {
   "cell_type": "markdown",
   "id": "889c7bee",
   "metadata": {
    "id": "889c7bee"
   },
   "source": [
    "<u>home_team_history_is_play_home_X</u>\n",
    "* Second subset contains features indicating whether the home team played the historical match at home (true or false, 1 or 0; numerical feature)\n",
    "* Missing values are replaced with median value."
   ]
  },
  {
   "cell_type": "code",
   "execution_count": 35,
   "id": "d91c7973",
   "metadata": {
    "id": "d91c7973"
   },
   "outputs": [],
   "source": [
    "# train_data[hist_features[10:20]].info()"
   ]
  },
  {
   "cell_type": "code",
   "execution_count": 36,
   "id": "15a18058",
   "metadata": {},
   "outputs": [],
   "source": [
    "for feat in hist_features[10:20]:\n",
    "    train_data[feat].fillna(train_data[feat].median(), inplace=True)\n",
    "    test_data[feat].fillna(test_data[feat].median(), inplace=True)"
   ]
  },
  {
   "cell_type": "markdown",
   "id": "ebdec956",
   "metadata": {
    "id": "ebdec956"
   },
   "source": [
    "<u>home_team_history_is_cup_X</u>\n",
    "* Third subset: is the historical match a cup match? (true or false, 1 or 0; numerical feature)\n",
    "* Missing values are replaced with median value."
   ]
  },
  {
   "cell_type": "code",
   "execution_count": 37,
   "id": "54796955",
   "metadata": {
    "id": "54796955"
   },
   "outputs": [],
   "source": [
    "# train_data[hist_features[20:30]].info()"
   ]
  },
  {
   "cell_type": "code",
   "execution_count": 38,
   "id": "3eb0f561",
   "metadata": {},
   "outputs": [],
   "source": [
    "for feat in hist_features[20:30]:\n",
    "    train_data[feat].fillna(train_data[feat].median(), inplace=True)\n",
    "    test_data[feat].fillna(test_data[feat].median(), inplace=True)"
   ]
  },
  {
   "cell_type": "markdown",
   "id": "f0e688a7",
   "metadata": {
    "id": "f0e688a7"
   },
   "source": [
    "<u>home_team_history_goal_X</u>\n",
    "* Fourth subset: number of goals the home team scored in the historical match (numerical feature).\n",
    "* Missing values are replaced with median value."
   ]
  },
  {
   "cell_type": "code",
   "execution_count": 39,
   "id": "4656600a",
   "metadata": {
    "id": "4656600a"
   },
   "outputs": [],
   "source": [
    "# train_data[hist_features[30:40]].info()"
   ]
  },
  {
   "cell_type": "code",
   "execution_count": 40,
   "id": "c889f54c",
   "metadata": {},
   "outputs": [],
   "source": [
    "for feat in hist_features[30:40]:\n",
    "    train_data[feat].fillna(train_data[feat].median(), inplace=True)\n",
    "    test_data[feat].fillna(test_data[feat].median(), inplace=True)"
   ]
  },
  {
   "cell_type": "markdown",
   "id": "00a419c4",
   "metadata": {
    "id": "00a419c4"
   },
   "source": [
    "<u>home_team_history_opponent_goal_X</u>\n",
    "* Fifth subset: number of goals the home team's opponent scored in the historical match (numerical feature).\n",
    "* Missing values are replaced with median value."
   ]
  },
  {
   "cell_type": "code",
   "execution_count": 41,
   "id": "af65b62e",
   "metadata": {
    "id": "af65b62e"
   },
   "outputs": [],
   "source": [
    "# train_data[hist_features[40:50]].info()"
   ]
  },
  {
   "cell_type": "code",
   "execution_count": 42,
   "id": "08de43b5",
   "metadata": {},
   "outputs": [],
   "source": [
    "for feat in hist_features[40:50]:\n",
    "    train_data[feat].fillna(train_data[feat].median(), inplace=True)\n",
    "    test_data[feat].fillna(test_data[feat].median(), inplace=True)"
   ]
  },
  {
   "cell_type": "markdown",
   "id": "15ca33b6",
   "metadata": {
    "id": "15ca33b6"
   },
   "source": [
    "<u>home_team_history_rating_X</u>\n",
    "* Sixth subset: home team's rating for the historical match (numerical feature).\n",
    "* Missing values are replaced with median value."
   ]
  },
  {
   "cell_type": "code",
   "execution_count": 43,
   "id": "17e0d0ec",
   "metadata": {
    "id": "17e0d0ec"
   },
   "outputs": [],
   "source": [
    "# train_data[hist_features[50:60]].info()"
   ]
  },
  {
   "cell_type": "code",
   "execution_count": 44,
   "id": "d9f9f204",
   "metadata": {},
   "outputs": [],
   "source": [
    "for feat in hist_features[50:60]:\n",
    "    train_data[feat].fillna(train_data[feat].median(), inplace=True)\n",
    "    test_data[feat].fillna(test_data[feat].median(), inplace=True)"
   ]
  },
  {
   "cell_type": "markdown",
   "id": "0df5758a",
   "metadata": {
    "id": "0df5758a"
   },
   "source": [
    "<u>home_team_history_opponent_rating_X</u>\n",
    "* Seventh subset: home team's opponent's rating for the historical match (numerical feature).\n",
    "* Missing values are replaced with median value."
   ]
  },
  {
   "cell_type": "code",
   "execution_count": 45,
   "id": "59a8badf",
   "metadata": {
    "id": "59a8badf"
   },
   "outputs": [],
   "source": [
    "# train_data[hist_features[60:70]].info()"
   ]
  },
  {
   "cell_type": "code",
   "execution_count": 46,
   "id": "08d5c432",
   "metadata": {},
   "outputs": [],
   "source": [
    "for feat in hist_features[60:70]:\n",
    "    train_data[feat].fillna(train_data[feat].median(), inplace=True)\n",
    "    test_data[feat].fillna(test_data[feat].median(), inplace=True)"
   ]
  },
  {
   "cell_type": "markdown",
   "id": "b518eb43",
   "metadata": {
    "id": "b518eb43"
   },
   "source": [
    "<u>home_team_history_coach_X</u>\n",
    "* Eight subset: ID of the home team coach.\n",
    "* Will be dropped due to reasons already discussed."
   ]
  },
  {
   "cell_type": "code",
   "execution_count": 47,
   "id": "c1ed07c1",
   "metadata": {
    "id": "c1ed07c1"
   },
   "outputs": [],
   "source": [
    "# train_data[hist_features[70:80]].info()"
   ]
  },
  {
   "cell_type": "code",
   "execution_count": 48,
   "id": "49f7ad7c",
   "metadata": {
    "colab": {
     "base_uri": "https://localhost:8080/"
    },
    "id": "49f7ad7c",
    "outputId": "4fcd10b2-0da8-473a-b4f4-341f81a02e56"
   },
   "outputs": [
    {
     "name": "stdout",
     "output_type": "stream",
     "text": [
      "Correlation between target and home_team_history_coach_1: 0.02\n",
      "Correlation between target and home_team_history_coach_2: 0.02\n",
      "Correlation between target and home_team_history_coach_3: 0.02\n",
      "Correlation between target and home_team_history_coach_4: 0.02\n",
      "Correlation between target and home_team_history_coach_5: 0.02\n",
      "Correlation between target and home_team_history_coach_6: 0.02\n",
      "Correlation between target and home_team_history_coach_7: 0.02\n",
      "Correlation between target and home_team_history_coach_8: 0.02\n",
      "Correlation between target and home_team_history_coach_9: 0.02\n",
      "Correlation between target and home_team_history_coach_10: 0.01\n"
     ]
    }
   ],
   "source": [
    "for column_index in range(70, 80):\n",
    "    column = hist_features[column_index]\n",
    "    print(f'Correlation between target and {column}: {round(train_data[[\"target\", column]].corr().iloc[0, 1], 2)}')"
   ]
  },
  {
   "cell_type": "markdown",
   "id": "7ca45a1c",
   "metadata": {
    "id": "7ca45a1c"
   },
   "source": [
    "<u>home_team_history_league_id_X</u>\n",
    "* Ninth subset: home team's league ID.\n",
    "* Will be dropped due to reasons already discussed."
   ]
  },
  {
   "cell_type": "code",
   "execution_count": 49,
   "id": "2b36710f",
   "metadata": {
    "id": "2b36710f"
   },
   "outputs": [],
   "source": [
    "# train_data[hist_features[80:90]].info()"
   ]
  },
  {
   "cell_type": "code",
   "execution_count": 50,
   "id": "079693b2",
   "metadata": {
    "colab": {
     "base_uri": "https://localhost:8080/"
    },
    "id": "079693b2",
    "outputId": "403f704e-902a-41d3-b3ce-fe6b189d6c80"
   },
   "outputs": [
    {
     "name": "stdout",
     "output_type": "stream",
     "text": [
      "Correlation between target and home_team_history_league_id_1: 0.01\n",
      "Correlation between target and home_team_history_league_id_2: 0.01\n",
      "Correlation between target and home_team_history_league_id_3: 0.01\n",
      "Correlation between target and home_team_history_league_id_4: 0.01\n",
      "Correlation between target and home_team_history_league_id_5: 0.01\n",
      "Correlation between target and home_team_history_league_id_6: 0.01\n",
      "Correlation between target and home_team_history_league_id_7: 0.0\n",
      "Correlation between target and home_team_history_league_id_8: 0.01\n",
      "Correlation between target and home_team_history_league_id_9: 0.0\n",
      "Correlation between target and home_team_history_league_id_10: 0.0\n"
     ]
    }
   ],
   "source": [
    "for column_index in range(80, 90):\n",
    "    column = hist_features[column_index]\n",
    "    print(f'Correlation between target and {column}: {round(train_data[[\"target\", column]].corr().iloc[0, 1], 2)}')"
   ]
  },
  {
   "cell_type": "markdown",
   "id": "aa31c503",
   "metadata": {
    "id": "aa31c503"
   },
   "source": [
    "Remaining subsets are **related to the away team** and contain **similar information** presented above for the home team. Hence, they are processed in the same way."
   ]
  },
  {
   "cell_type": "markdown",
   "id": "7ff6fbfe",
   "metadata": {},
   "source": [
    "<u>away_team_history_match_date_X</u>"
   ]
  },
  {
   "cell_type": "code",
   "execution_count": 51,
   "id": "56778ff5",
   "metadata": {
    "id": "56778ff5"
   },
   "outputs": [],
   "source": [
    "# train_data[hist_features[90:100]].info()"
   ]
  },
  {
   "cell_type": "code",
   "execution_count": 52,
   "id": "0870f364",
   "metadata": {},
   "outputs": [],
   "source": [
    "for feat in hist_features[90:100]:\n",
    "    train_data[feat].fillna(train_data[feat].mode()[0], inplace=True)\n",
    "    test_data[feat].fillna(test_data[feat].mode()[0], inplace=True)"
   ]
  },
  {
   "cell_type": "code",
   "execution_count": 53,
   "id": "8e573dd8",
   "metadata": {
    "id": "8e573dd8"
   },
   "outputs": [],
   "source": [
    "train_data[hist_features[90:100]] = train_data[hist_features[90:100]].astype('datetime64[ns]')"
   ]
  },
  {
   "cell_type": "code",
   "execution_count": 54,
   "id": "908a56b7",
   "metadata": {
    "id": "908a56b7"
   },
   "outputs": [],
   "source": [
    "test_data[hist_features[90:100]] = test_data[hist_features[90:100]].astype('datetime64[ns]')"
   ]
  },
  {
   "cell_type": "markdown",
   "id": "d988e349",
   "metadata": {},
   "source": [
    "<u>away_team_history_is_play_home_X</u>"
   ]
  },
  {
   "cell_type": "code",
   "execution_count": 55,
   "id": "6e3e221a",
   "metadata": {
    "id": "6e3e221a",
    "scrolled": true
   },
   "outputs": [],
   "source": [
    "# train_data[hist_features[100:110]].info()"
   ]
  },
  {
   "cell_type": "code",
   "execution_count": 56,
   "id": "d196d8d6",
   "metadata": {},
   "outputs": [],
   "source": [
    "for feat in hist_features[100:110]:\n",
    "    train_data[feat].fillna(train_data[feat].median(), inplace=True)\n",
    "    test_data[feat].fillna(test_data[feat].median(), inplace=True)"
   ]
  },
  {
   "cell_type": "markdown",
   "id": "99cbccbd",
   "metadata": {},
   "source": [
    "<u>away_team_history_is_cup_X</u>"
   ]
  },
  {
   "cell_type": "code",
   "execution_count": 57,
   "id": "a8aff373",
   "metadata": {
    "id": "a8aff373"
   },
   "outputs": [],
   "source": [
    "# train_data[hist_features[110:120]].info()"
   ]
  },
  {
   "cell_type": "code",
   "execution_count": 58,
   "id": "843b3769",
   "metadata": {},
   "outputs": [],
   "source": [
    "for feat in hist_features[110:120]:\n",
    "    train_data[feat].fillna(train_data[feat].median(), inplace=True)\n",
    "    test_data[feat].fillna(test_data[feat].median(), inplace=True)"
   ]
  },
  {
   "cell_type": "markdown",
   "id": "91844836",
   "metadata": {},
   "source": [
    "<u>away_team_history_goal_X</u>"
   ]
  },
  {
   "cell_type": "code",
   "execution_count": 59,
   "id": "2cbce373",
   "metadata": {
    "id": "2cbce373",
    "scrolled": true
   },
   "outputs": [],
   "source": [
    "# train_data[hist_features[120:130]].info()"
   ]
  },
  {
   "cell_type": "code",
   "execution_count": 60,
   "id": "50b75cc5",
   "metadata": {},
   "outputs": [],
   "source": [
    "for feat in hist_features[120:130]:\n",
    "    train_data[feat].fillna(train_data[feat].median(), inplace=True)\n",
    "    test_data[feat].fillna(test_data[feat].median(), inplace=True)"
   ]
  },
  {
   "cell_type": "markdown",
   "id": "810c7f04",
   "metadata": {},
   "source": [
    "<u>away_team_history_opponent_goal_X</u>"
   ]
  },
  {
   "cell_type": "code",
   "execution_count": 61,
   "id": "e4d73bf2",
   "metadata": {
    "id": "e4d73bf2"
   },
   "outputs": [],
   "source": [
    "# train_data[hist_features[130:140]].info()"
   ]
  },
  {
   "cell_type": "code",
   "execution_count": 62,
   "id": "3658debf",
   "metadata": {},
   "outputs": [],
   "source": [
    "for feat in hist_features[130:140]:\n",
    "    train_data[feat].fillna(train_data[feat].median(), inplace=True)\n",
    "    test_data[feat].fillna(test_data[feat].median(), inplace=True)"
   ]
  },
  {
   "cell_type": "markdown",
   "id": "ba45f77c",
   "metadata": {},
   "source": [
    "<u>away_team_history_rating_X</u>"
   ]
  },
  {
   "cell_type": "code",
   "execution_count": 63,
   "id": "de53c65a",
   "metadata": {
    "id": "de53c65a"
   },
   "outputs": [],
   "source": [
    "# train_data[hist_features[140:150]].info()"
   ]
  },
  {
   "cell_type": "code",
   "execution_count": 64,
   "id": "17043b2b",
   "metadata": {},
   "outputs": [],
   "source": [
    "for feat in hist_features[140:150]:\n",
    "    train_data[feat].fillna(train_data[feat].median(), inplace=True)\n",
    "    test_data[feat].fillna(test_data[feat].median(), inplace=True)"
   ]
  },
  {
   "cell_type": "markdown",
   "id": "165c97ae",
   "metadata": {},
   "source": [
    "<u>away_team_history_opponent_rating_X</u>"
   ]
  },
  {
   "cell_type": "code",
   "execution_count": 65,
   "id": "09f0c389",
   "metadata": {
    "id": "09f0c389"
   },
   "outputs": [],
   "source": [
    "# train_data[hist_features[150:160]].info()"
   ]
  },
  {
   "cell_type": "code",
   "execution_count": 66,
   "id": "924d62cd",
   "metadata": {},
   "outputs": [],
   "source": [
    "for feat in hist_features[150:160]:\n",
    "    train_data[feat].fillna(train_data[feat].median(), inplace=True)\n",
    "    test_data[feat].fillna(test_data[feat].median(), inplace=True)"
   ]
  },
  {
   "cell_type": "markdown",
   "id": "7be3fba2",
   "metadata": {},
   "source": [
    "<u>away_team_history_coach_X</u>"
   ]
  },
  {
   "cell_type": "code",
   "execution_count": 67,
   "id": "3303095d",
   "metadata": {
    "id": "3303095d"
   },
   "outputs": [],
   "source": [
    "# train_data[hist_features[160:170]].info()"
   ]
  },
  {
   "cell_type": "markdown",
   "id": "5a020aec",
   "metadata": {},
   "source": [
    "<u>away_team_history_league_id_X</u>"
   ]
  },
  {
   "cell_type": "code",
   "execution_count": 68,
   "id": "53598b79",
   "metadata": {
    "id": "53598b79"
   },
   "outputs": [],
   "source": [
    "# train_data[hist_features[170:180]].info()"
   ]
  },
  {
   "cell_type": "markdown",
   "id": "8d0d5777",
   "metadata": {},
   "source": [
    "Finally, drop irrelevant ID columns:"
   ]
  },
  {
   "cell_type": "code",
   "execution_count": 69,
   "id": "d72e26c1",
   "metadata": {
    "id": "d72e26c1"
   },
   "outputs": [],
   "source": [
    "train_data.drop(columns=hist_features[70:80], axis=1, inplace=True)\n",
    "test_data.drop(columns=hist_features[70:80], axis=1, inplace=True)\n",
    "train_data.drop(columns=hist_features[80:90], axis=1, inplace=True)\n",
    "test_data.drop(columns=hist_features[80:90], axis=1, inplace=True)\n",
    "train_data.drop(columns = hist_features[160:170], axis = 1, inplace = True)\n",
    "test_data.drop(columns = hist_features[160:170], axis = 1, inplace = True)\n",
    "train_data.drop(columns = hist_features[170:180], axis = 1, inplace = True)\n",
    "test_data.drop(columns = hist_features[170:180], axis = 1, inplace = True)"
   ]
  },
  {
   "cell_type": "markdown",
   "id": "fd069046",
   "metadata": {
    "id": "fd069046"
   },
   "source": [
    "Next, we create new features based on all date-based features. The newly created features indicate the difference (counted in days) between the match date and the respective historical match:"
   ]
  },
  {
   "cell_type": "code",
   "execution_count": 70,
   "id": "51637219",
   "metadata": {
    "id": "51637219"
   },
   "outputs": [],
   "source": [
    "for i in range(1, 11):\n",
    "    home_column = f'home_team_history_match_date_{i}'\n",
    "    away_column = f'away_team_history_match_date_{i}'\n",
    "\n",
    "    train_data[f'home_team_history_match_days_ago_{i}'] = (train_data['match_date'] - train_data[home_column]).dt.days\n",
    "    train_data[f'away_team_history_match_days_ago_{i}'] = (train_data['match_date']- train_data[away_column]).dt.days"
   ]
  },
  {
   "cell_type": "markdown",
   "id": "a80efd04",
   "metadata": {
    "id": "a80efd04"
   },
   "source": [
    "Same procedure for the test data:"
   ]
  },
  {
   "cell_type": "code",
   "execution_count": 71,
   "id": "7ea33834",
   "metadata": {
    "id": "7ea33834"
   },
   "outputs": [],
   "source": [
    "for i in range(1, 11):\n",
    "    home_column = f'home_team_history_match_date_{i}'\n",
    "    away_column = f'away_team_history_match_date_{i}'\n",
    "\n",
    "    test_data[f'home_team_history_match_days_ago_{i}'] = (test_data['match_date'] - test_data[home_column]).dt.days\n",
    "    test_data[f'away_team_history_match_days_ago_{i}'] = (test_data['match_date'] - test_data[away_column]).dt.days"
   ]
  },
  {
   "cell_type": "markdown",
   "id": "f474c864",
   "metadata": {
    "id": "f474c864"
   },
   "source": [
    "Eventually, all date-based features are dropped:"
   ]
  },
  {
   "cell_type": "code",
   "execution_count": 72,
   "id": "2ee54b3f",
   "metadata": {
    "id": "2ee54b3f"
   },
   "outputs": [],
   "source": [
    "train_data_date_based_columns = train_data.select_dtypes(include='datetime64[ns]').columns\n",
    "test_data_date_based_columns = test_data.select_dtypes(include='datetime64[ns]').columns"
   ]
  },
  {
   "cell_type": "code",
   "execution_count": 73,
   "id": "6406004b",
   "metadata": {
    "id": "6406004b"
   },
   "outputs": [],
   "source": [
    "train_data.drop(columns = train_data_date_based_columns, axis=1, inplace=True)"
   ]
  },
  {
   "cell_type": "code",
   "execution_count": 74,
   "id": "dfaee5e8",
   "metadata": {
    "id": "dfaee5e8"
   },
   "outputs": [],
   "source": [
    "test_data.drop(columns = test_data_date_based_columns, axis=1, inplace=True)"
   ]
  },
  {
   "cell_type": "markdown",
   "id": "e6d62c84",
   "metadata": {
    "id": "e6d62c84"
   },
   "source": [
    "### Preprocessing the data"
   ]
  },
  {
   "cell_type": "markdown",
   "id": "450815e6",
   "metadata": {
    "id": "450815e6"
   },
   "source": [
    "#### Remaining missing values?"
   ]
  },
  {
   "cell_type": "code",
   "execution_count": 75,
   "id": "fbad3397",
   "metadata": {
    "id": "fbad3397"
   },
   "outputs": [
    {
     "data": {
      "text/plain": [
       "0"
      ]
     },
     "execution_count": 75,
     "metadata": {},
     "output_type": "execute_result"
    }
   ],
   "source": [
    "sum(train_data.isna().sum())"
   ]
  },
  {
   "cell_type": "code",
   "execution_count": 76,
   "id": "4a28cea1",
   "metadata": {},
   "outputs": [
    {
     "data": {
      "text/plain": [
       "0"
      ]
     },
     "execution_count": 76,
     "metadata": {},
     "output_type": "execute_result"
    }
   ],
   "source": [
    "sum(test_data.isna().sum())"
   ]
  },
  {
   "cell_type": "markdown",
   "id": "d484660c",
   "metadata": {},
   "source": [
    "Perfect!"
   ]
  },
  {
   "cell_type": "markdown",
   "id": "caae4178",
   "metadata": {
    "id": "caae4178"
   },
   "source": [
    "#### Resampling to remove imbalance in targets"
   ]
  },
  {
   "cell_type": "markdown",
   "id": "585b5a54",
   "metadata": {
    "id": "585b5a54"
   },
   "source": [
    "First, separate features from targets/labels:"
   ]
  },
  {
   "cell_type": "code",
   "execution_count": 77,
   "id": "bd87d269",
   "metadata": {
    "id": "bd87d269"
   },
   "outputs": [],
   "source": [
    "features = train_data.drop(columns=['target'], axis=1)"
   ]
  },
  {
   "cell_type": "code",
   "execution_count": 78,
   "id": "b68ea3cc",
   "metadata": {
    "id": "b68ea3cc"
   },
   "outputs": [],
   "source": [
    "targets = train_data.loc[:, 'target']"
   ]
  },
  {
   "cell_type": "markdown",
   "id": "0bb6f9af",
   "metadata": {
    "id": "0bb6f9af"
   },
   "source": [
    "As stated at the beginning the labels are imbalanced. To avoid biased results, **resampling** is applied. In particular, **random oversampling** is applied.\n",
    "\n",
    "Random oversampling involves randomly selecting examples from the minority class, with replacement, and adding them to the training dataset. Note that problems of overfitting might be amplified by that procedure.\n",
    "\n",
    "Alternatively, one could apply **undersampling** (reduce the majority class; problem: loss of crucial data) or **Synthetic Minority Oversampling Technique (SMOTE)** (generate new synthetic samples in minority class by slightly modifying existing samples)."
   ]
  },
  {
   "cell_type": "code",
   "execution_count": 79,
   "id": "022d4b67",
   "metadata": {
    "id": "022d4b67"
   },
   "outputs": [],
   "source": [
    "random_oversampler = RandomOverSampler(random_state=42)"
   ]
  },
  {
   "cell_type": "code",
   "execution_count": 80,
   "id": "e826ac2b",
   "metadata": {
    "id": "e826ac2b"
   },
   "outputs": [],
   "source": [
    "resampled_data = random_oversampler.fit_resample(features, targets)"
   ]
  },
  {
   "cell_type": "code",
   "execution_count": 81,
   "id": "ca794701",
   "metadata": {
    "id": "ca794701"
   },
   "outputs": [],
   "source": [
    "features_after_resampling = pd.DataFrame(list(resampled_data[:-1])[0])"
   ]
  },
  {
   "cell_type": "code",
   "execution_count": 82,
   "id": "44dca2dd",
   "metadata": {
    "id": "44dca2dd"
   },
   "outputs": [],
   "source": [
    "targets_after_resampling = resampled_data[-1]"
   ]
  },
  {
   "cell_type": "markdown",
   "id": "04ce79ba",
   "metadata": {
    "id": "04ce79ba"
   },
   "source": [
    "#### Feature Scaling"
   ]
  },
  {
   "cell_type": "markdown",
   "id": "3edb71e2",
   "metadata": {
    "id": "3edb71e2"
   },
   "source": [
    "What is feature scaling? It is a preprocessing technique that transforms values to a similar scale, ensuring all features contribute equally to the model. In many cases, features are characterized by varying ranges, units, or magnitudes. Scaling improves the model's performance and prevents bias from features with relatively large values.\n",
    "\n",
    "Feature scaling can be achieved by **standardization** and **normalization**.\n",
    "\n",
    "* **Standardization**: values are centered around the mean with a unit standard deviation.\n",
    "* **Normalization** (often called **Min-max scaling**): values are shifted and rescaled so that they end up ranging between 0 and 1.\n",
    "\n",
    "The choice between standardization and normalization depend on the problem, the dataset and the machine learning algorithm. One feasible way is to fit the model to raw, normalized, and standardized data and compare the performance.\n",
    "\n",
    "Sources:\n",
    "* https://www.analyticsvidhya.com/blog/2020/04/feature-scaling-machine-learning-normalization-standardization/\n",
    "* https://www.datacamp.com/tutorial/normalization-in-machine-learning"
   ]
  },
  {
   "cell_type": "code",
   "execution_count": 83,
   "id": "b1a8454f",
   "metadata": {
    "id": "b1a8454f"
   },
   "outputs": [],
   "source": [
    "scaler = StandardScaler()\n",
    "# scaler = MinMaxScaler()"
   ]
  },
  {
   "cell_type": "code",
   "execution_count": 84,
   "id": "f5961c21",
   "metadata": {
    "id": "f5961c21"
   },
   "outputs": [],
   "source": [
    "features_scaled = scaler.fit_transform(features_after_resampling)"
   ]
  },
  {
   "cell_type": "code",
   "execution_count": 85,
   "id": "19fdc53a",
   "metadata": {
    "id": "19fdc53a"
   },
   "outputs": [],
   "source": [
    "features_test_scaled = scaler.transform(test_data)"
   ]
  },
  {
   "cell_type": "markdown",
   "id": "cf510994",
   "metadata": {
    "id": "cf510994"
   },
   "source": [
    "#### Training and validation set split"
   ]
  },
  {
   "cell_type": "code",
   "execution_count": 86,
   "id": "8d9515cf",
   "metadata": {
    "id": "8d9515cf"
   },
   "outputs": [],
   "source": [
    "features_train, features_valid, targets_train, targets_valid = train_test_split(features_scaled, targets_after_resampling,\n",
    "                                                                                test_size=0.1, shuffle=True)"
   ]
  },
  {
   "cell_type": "markdown",
   "id": "7ec9d904",
   "metadata": {
    "id": "7ec9d904"
   },
   "source": [
    "### Modelling"
   ]
  },
  {
   "cell_type": "markdown",
   "id": "4898cb34",
   "metadata": {
    "id": "4898cb34"
   },
   "source": [
    "#### Cross-validation strategy & performance metric"
   ]
  },
  {
   "cell_type": "markdown",
   "id": "92b41217",
   "metadata": {
    "id": "92b41217"
   },
   "source": [
    "First, we choose a **cross-validation strategy**. Cross-validation is a technique for evaluating models by training several models on subsets of the available input data and evaluating them on another subset of the data. The technique allows to detect overfitting. There are a lot of different approaches, but all of them have a similar algorithm:\n",
    "\n",
    "1. Divide the dataset into two subsets: one for training, other for validation.\n",
    "2. Train the model on the training set.\n",
    "3. Validate the model on the test set.\n",
    "4. Repeat 1-3 steps a couple of times (depending on the approach).\n",
    "\n",
    "A popular approach is the **k-fold** cross-validation, which applies the following iterative process:\n",
    "\n",
    "1. Pick a number of folds (k).\n",
    "2. Split the dataset into k subsets (folds).\n",
    "3. Choose k – 1 folds as the training subsets.\n",
    "4. Train the model on the training subsets.\n",
    "5. Validate on the remaining validation subset.\n",
    "6. Save the results.\n",
    "7. Repeat steps 3 – 6 k times. In step 3: do not pick the same k - 1 subsets as in the previous iteration. In the end, the model should have been validated on every fold!\n",
    "8. Calculate the final score by averaging all results.\n",
    "\n",
    "In this case, we will stick to **stratified cross-validation**. It is a variation of k-fold with stratified folds: each fold contains approximately the same percentage of samples of each target class as the complete dataset.\n",
    "\n",
    "Sources:\n",
    "* https://neptune.ai/blog/cross-validation-in-machine-learning-how-to-do-it-right"
   ]
  },
  {
   "cell_type": "code",
   "execution_count": 87,
   "id": "a19b94e7",
   "metadata": {
    "id": "a19b94e7"
   },
   "outputs": [],
   "source": [
    "stratified_cross_valid_folds = StratifiedKFold(n_splits=5, random_state=42, shuffle=True)"
   ]
  },
  {
   "cell_type": "markdown",
   "id": "6f8eff07",
   "metadata": {
    "id": "6f8eff07"
   },
   "source": [
    "To evaluate the model's performance, we have to choose a **performance metric**. In the following, the most commonly used metrics are described:\n",
    "\n",
    "* **Accuracy** = **(TP + TN) / (TP + FP + TN + FN)**, where TP: true positive, FP: false positive, TN: true negative, and FN: false negative. It shows the proportion of correctly predicted results.\n",
    "\n",
    "* **Precision** = **TP / (TP + FP)**. Proportion of true positive predictions among all positive predictions. Ability of the classifier **not** to label a negative sample as positive.\n",
    "\n",
    "* **Recall** = **TP / (TP + FN)**. Proportion of true positive predictions among all actual positive instances. Ability of the classifier to find all the positive samples.\n",
    "\n",
    "* **F1-score**: can be interpreted as a weighted harmonic mean of the precision and recall, where the score reaches its best value at 1 and worst score at 0.\n",
    "\n",
    "However, it is stated on kaggle competition page that the results are evaluated using **multinomial log-loss**. Multinomial log-loss (also known as **logistic** or **cross-entropy loss**) is a loss function used in machine learning to measure the performance of a **classification model**. It measures the difference between the predicted probability distribution and the true distribution:\n",
    "\n",
    "$$\n",
    "    L(p,q)= - \\sum p(x) \\ln q(x)\n",
    "$$\n",
    "\n",
    "\n",
    "As it is the metric used for the competition, we will continue with log-loss to measure model perfomance."
   ]
  },
  {
   "cell_type": "code",
   "execution_count": 88,
   "id": "eMWJC59jtjvi",
   "metadata": {
    "id": "eMWJC59jtjvi"
   },
   "outputs": [],
   "source": [
    "def get_log_loss(model):\n",
    "    fitted_model = model.fit(features_train, targets_train)\n",
    "    \n",
    "    predictions_train = fitted_model.predict_proba(features_train)\n",
    "    train_log_loss = log_loss(targets_train, predictions_train)\n",
    "    \n",
    "    predictions_valid = fitted_model.predict_proba(features_valid)\n",
    "    valid_log_loss = log_loss(targets_valid, predictions_valid)\n",
    "    \n",
    "    print(f'Training: {round(train_log_loss * 100, 2)} vs. Validation: {round(valid_log_loss * 100, 2)}')"
   ]
  },
  {
   "cell_type": "markdown",
   "id": "_snnubiptmDp",
   "metadata": {
    "id": "_snnubiptmDp"
   },
   "source": [
    "Finally, the cross-val-score of sklearn is implemented in a function to cross-validate models. **Note**: function uses complete training data without split as validation is applied internally."
   ]
  },
  {
   "cell_type": "code",
   "execution_count": 94,
   "id": "374e50de",
   "metadata": {
    "id": "374e50de"
   },
   "outputs": [],
   "source": [
    "def cross_validate_model(model, X=features_scaled, y=targets_after_resampling):\n",
    "    return cross_val_score(model, X, y, cv=stratified_cross_valid_folds, scoring='neg_log_loss')"
   ]
  },
  {
   "cell_type": "markdown",
   "id": "43542da8",
   "metadata": {
    "id": "43542da8"
   },
   "source": [
    "#### Decision Tree Classifier"
   ]
  },
  {
   "cell_type": "markdown",
   "id": "c1326643",
   "metadata": {
    "id": "c1326643"
   },
   "source": [
    "We start with a simple Decision Tree classifier without parameter tuning:"
   ]
  },
  {
   "cell_type": "code",
   "execution_count": 90,
   "id": "b2edc0f9",
   "metadata": {
    "id": "b2edc0f9"
   },
   "outputs": [],
   "source": [
    "decision_tree_baseline = DecisionTreeClassifier(random_state=42)"
   ]
  },
  {
   "cell_type": "code",
   "execution_count": 91,
   "id": "2df4bd14",
   "metadata": {
    "colab": {
     "base_uri": "https://localhost:8080/"
    },
    "id": "2df4bd14",
    "outputId": "282886da-4ae4-4806-a5ff-e8ae4fc3d78f"
   },
   "outputs": [
    {
     "name": "stdout",
     "output_type": "stream",
     "text": [
      "Training: 0.16 vs. Validation: 1292.85\n"
     ]
    }
   ],
   "source": [
    "get_log_loss(decision_tree_baseline)"
   ]
  },
  {
   "cell_type": "markdown",
   "id": "4dd4d3a8",
   "metadata": {},
   "source": [
    "Cross-validation not performed due to time and computational power restrictions."
   ]
  },
  {
   "cell_type": "code",
   "execution_count": 92,
   "id": "556d5b50",
   "metadata": {
    "id": "556d5b50"
   },
   "outputs": [],
   "source": [
    "# decision_tree_baseline_log_loss_cv = cross_validate_model(decision_tree_baseline).mean()"
   ]
  },
  {
   "cell_type": "markdown",
   "id": "1e449ce9",
   "metadata": {
    "id": "1e449ce9"
   },
   "source": [
    "As expected, the decision tree baseline model learns the data structure by heart and yields a log-loss of almost 0. The log-loss on the validation set is around 1,300 percent. The huge gap indicates (expected) issues of **overfitting**. In the following, different **levels of depth** are tested to see whether a better performance (and lower overfitting gap) can be yielded."
   ]
  },
  {
   "cell_type": "code",
   "execution_count": 93,
   "id": "f4664105",
   "metadata": {
    "id": "f4664105"
   },
   "outputs": [],
   "source": [
    "depths = np.arange(1, 21, 1)"
   ]
  },
  {
   "cell_type": "code",
   "execution_count": 95,
   "id": "93621029",
   "metadata": {
    "id": "93621029"
   },
   "outputs": [],
   "source": [
    "depth_log_losses_train = []\n",
    "depth_log_losses_valid = []"
   ]
  },
  {
   "cell_type": "code",
   "execution_count": 96,
   "id": "dd6011cd",
   "metadata": {
    "id": "dd6011cd"
   },
   "outputs": [],
   "source": [
    "for depth in depths:\n",
    "    temp_dec_tree = DecisionTreeClassifier(max_depth=depth, random_state=42).fit(features_train, targets_train)\n",
    "    depth_log_losses_train.append(log_loss(targets_train, temp_dec_tree.predict_proba(features_train)))\n",
    "    depth_log_losses_valid.append(log_loss(targets_valid, temp_dec_tree.predict_proba(features_valid)))"
   ]
  },
  {
   "cell_type": "code",
   "execution_count": 97,
   "id": "aa50c134",
   "metadata": {
    "colab": {
     "base_uri": "https://localhost:8080/",
     "height": 522
    },
    "id": "aa50c134",
    "outputId": "07354697-5058-476e-fab9-44b37ee39aa0",
    "scrolled": false
   },
   "outputs": [
    {
     "data": {
      "image/png": "[encoded data removed]",
      "text/plain": [
       "<Figure size 1152x432 with 1 Axes>"
      ]
     },
     "metadata": {
      "needs_background": "light"
     },
     "output_type": "display_data"
    }
   ],
   "source": [
    "fig, ax = plt.subplots(figsize=(16, 6))\n",
    "ax.plot(depths, depth_log_losses_train, color='red', label='Training')\n",
    "ax.plot(depths, depth_log_losses_valid, color='blue', label='Validation')\n",
    "ax.set_xticks(depths)\n",
    "ax.legend()\n",
    "plt.show()"
   ]
  },
  {
   "cell_type": "code",
   "execution_count": 98,
   "id": "94926b29",
   "metadata": {
    "id": "94926b29"
   },
   "outputs": [],
   "source": [
    "difference_train_valid = [v - t for v,t in zip(depth_log_losses_train, depth_log_losses_valid)]"
   ]
  },
  {
   "cell_type": "code",
   "execution_count": 99,
   "id": "6bdb4be0",
   "metadata": {
    "id": "6bdb4be0"
   },
   "outputs": [],
   "source": [
    "decision_tree_log_losses = pd.DataFrame([depth_log_losses_train, depth_log_losses_valid, difference_train_valid],\n",
    "                                                  index=['Training', 'Validation', 'Difference'],\n",
    "                                                  columns=depths).T"
   ]
  },
  {
   "cell_type": "code",
   "execution_count": 100,
   "id": "392e6f9b",
   "metadata": {
    "id": "392e6f9b"
   },
   "outputs": [
    {
     "data": {
      "text/html": [
       "<div>\n",
       "<style scoped>\n",
       "    .dataframe tbody tr th:only-of-type {\n",
       "        vertical-align: middle;\n",
       "    }\n",
       "\n",
       "    .dataframe tbody tr th {\n",
       "        vertical-align: top;\n",
       "    }\n",
       "\n",
       "    .dataframe thead th {\n",
       "        text-align: right;\n",
       "    }\n",
       "</style>\n",
       "<table border=\"1\" class=\"dataframe\">\n",
       "  <thead>\n",
       "    <tr style=\"text-align: right;\">\n",
       "      <th></th>\n",
       "      <th>Training</th>\n",
       "      <th>Validation</th>\n",
       "      <th>Difference</th>\n",
       "    </tr>\n",
       "  </thead>\n",
       "  <tbody>\n",
       "    <tr>\n",
       "      <th>9</th>\n",
       "      <td>1.023565</td>\n",
       "      <td>1.144154</td>\n",
       "      <td>-0.120589</td>\n",
       "    </tr>\n",
       "    <tr>\n",
       "      <th>10</th>\n",
       "      <td>0.995487</td>\n",
       "      <td>1.250677</td>\n",
       "      <td>-0.255190</td>\n",
       "    </tr>\n",
       "    <tr>\n",
       "      <th>11</th>\n",
       "      <td>0.955942</td>\n",
       "      <td>1.447467</td>\n",
       "      <td>-0.491526</td>\n",
       "    </tr>\n",
       "  </tbody>\n",
       "</table>\n",
       "</div>"
      ],
      "text/plain": [
       "    Training  Validation  Difference\n",
       "9   1.023565    1.144154   -0.120589\n",
       "10  0.995487    1.250677   -0.255190\n",
       "11  0.955942    1.447467   -0.491526"
      ]
     },
     "execution_count": 100,
     "metadata": {},
     "output_type": "execute_result"
    }
   ],
   "source": [
    "decision_tree_log_losses.loc[9:11]"
   ]
  },
  {
   "cell_type": "markdown",
   "id": "656cd1e5",
   "metadata": {
    "id": "656cd1e5"
   },
   "source": [
    "Problem of overfitting is quite obvious. We will continue with a **depth of 10** (afterwards the curves diverges siginificantly)."
   ]
  },
  {
   "cell_type": "code",
   "execution_count": 101,
   "id": "b2811f7a",
   "metadata": {
    "id": "b2811f7a"
   },
   "outputs": [],
   "source": [
    "decision_tree_final = DecisionTreeClassifier(max_depth=10, random_state=42).fit(features_train, targets_train)"
   ]
  },
  {
   "cell_type": "markdown",
   "id": "052e2f63",
   "metadata": {
    "id": "052e2f63"
   },
   "source": [
    "Make predictions with tuned model and evaluate:"
   ]
  },
  {
   "cell_type": "code",
   "execution_count": 102,
   "id": "f865bcf1",
   "metadata": {
    "id": "f865bcf1"
   },
   "outputs": [],
   "source": [
    "decision_tree_predictions = decision_tree_final.predict(features_valid)"
   ]
  },
  {
   "cell_type": "markdown",
   "id": "df165f8f",
   "metadata": {
    "id": "df165f8f"
   },
   "source": [
    "Check **confusion matrix** to evaluate model performance.\n",
    "\n",
    "The **confusion matrix**, also known as error matrix, is a specific table that allows visualization of the **performance of an algorithm**. Each row of the matrix represents the instances in an actual class while each column represents the instances in a predicted class, or vice versa. The diagonal of the matrix therefore **represents all instances that are correctly predicted**."
   ]
  },
  {
   "cell_type": "code",
   "execution_count": 103,
   "id": "0c43f968",
   "metadata": {
    "id": "0c43f968"
   },
   "outputs": [],
   "source": [
    "decision_tree_confusion_matrix = confusion_matrix(targets_valid, decision_tree_predictions)"
   ]
  },
  {
   "cell_type": "code",
   "execution_count": 104,
   "id": "882be473",
   "metadata": {
    "id": "882be473"
   },
   "outputs": [],
   "source": [
    "decision_tree_confusion_matrix_plot = ConfusionMatrixDisplay(decision_tree_confusion_matrix,\n",
    "                                                             display_labels = np.array(['draw', 'home', 'away']))"
   ]
  },
  {
   "cell_type": "code",
   "execution_count": 105,
   "id": "01fd5edd",
   "metadata": {
    "colab": {
     "base_uri": "https://localhost:8080/",
     "height": 466
    },
    "id": "01fd5edd",
    "outputId": "a6d3e40c-45d4-4015-893a-509827137677"
   },
   "outputs": [
    {
     "data": {
      "text/plain": [
       "<sklearn.metrics._plot.confusion_matrix.ConfusionMatrixDisplay at 0x217e04d7460>"
      ]
     },
     "execution_count": 105,
     "metadata": {},
     "output_type": "execute_result"
    },
    {
     "data": {
      "image/png": "[encoded data removed]",
      "text/plain": [
       "<Figure size 432x288 with 2 Axes>"
      ]
     },
     "metadata": {
      "needs_background": "light"
     },
     "output_type": "display_data"
    }
   ],
   "source": [
    "decision_tree_confusion_matrix_plot.plot()"
   ]
  },
  {
   "cell_type": "markdown",
   "id": "cc6ba17e",
   "metadata": {
    "id": "cc6ba17e"
   },
   "source": [
    "As already indicated by the line plot comparing log-losses on training and validation set, the log-loss around **1 and 1.5**. Next, feature importance is examined to see whether features could be excluded to reduce complexity."
   ]
  },
  {
   "cell_type": "code",
   "execution_count": 107,
   "id": "37b11d0e",
   "metadata": {
    "id": "37b11d0e"
   },
   "outputs": [],
   "source": [
    "feature_importance = pd.Series(decision_tree_final.feature_importances_,\n",
    "                               index = features.columns).sort_values(ascending = False)"
   ]
  },
  {
   "cell_type": "code",
   "execution_count": 108,
   "id": "8dc8fe21",
   "metadata": {
    "colab": {
     "base_uri": "https://localhost:8080/",
     "height": 501
    },
    "id": "8dc8fe21",
    "outputId": "baed8646-0351-42f9-da81-cacf8d7ef5b1"
   },
   "outputs": [
    {
     "data": {
      "image/png": "[encoded data removed]",
      "text/plain": [
       "<Figure size 1152x432 with 1 Axes>"
      ]
     },
     "metadata": {
      "needs_background": "light"
     },
     "output_type": "display_data"
    }
   ],
   "source": [
    "fig, ax = plt.subplots(figsize=(16, 6))\n",
    "feature_importance.head(50).plot(kind='barh', ax=ax)\n",
    "plt.show()"
   ]
  },
  {
   "cell_type": "markdown",
   "id": "f2912dbe",
   "metadata": {
    "id": "f2912dbe"
   },
   "source": [
    "The charts indicate that the **most important features** are those related to the **team ratings**. In the following, only rating features are considered to fit a decision tree model."
   ]
  },
  {
   "cell_type": "code",
   "execution_count": 109,
   "id": "63423d62",
   "metadata": {},
   "outputs": [],
   "source": [
    "rating_features = hist_features[50:70] + hist_features[140:160]"
   ]
  },
  {
   "cell_type": "code",
   "execution_count": 110,
   "id": "daa4d06a",
   "metadata": {
    "id": "daa4d06a"
   },
   "outputs": [],
   "source": [
    "features_sparse_scaled = scaler.fit_transform(features_after_resampling[rating_features])\n",
    "features_test_sparse_scaled = scaler.transform(test_data[rating_features])\n",
    "features_sparse_train, features_sparse_valid, targets_sparse_train, targets_sparse_valid = train_test_split(features_sparse_scaled,\n",
    "                                                                                                            targets_after_resampling,\n",
    "                                                                                                            test_size=0.1,\n",
    "                                                                                                            shuffle=True)"
   ]
  },
  {
   "cell_type": "code",
   "execution_count": 111,
   "id": "e0b9d672",
   "metadata": {
    "id": "e0b9d672"
   },
   "outputs": [],
   "source": [
    "decision_tree_sparse = DecisionTreeClassifier(max_depth=10, random_state=42).fit(features_sparse_train, targets_sparse_train)"
   ]
  },
  {
   "cell_type": "code",
   "execution_count": 112,
   "id": "67edd64a",
   "metadata": {
    "id": "67edd64a"
   },
   "outputs": [],
   "source": [
    "decision_tree_sparse_predictions = decision_tree_sparse.predict_proba(features_sparse_valid)"
   ]
  },
  {
   "cell_type": "code",
   "execution_count": 113,
   "id": "3bcc279a",
   "metadata": {
    "colab": {
     "base_uri": "https://localhost:8080/"
    },
    "id": "3bcc279a",
    "outputId": "b487e4ed-6c6f-4198-a7ec-66860df1570d"
   },
   "outputs": [
    {
     "data": {
      "text/plain": [
       "1.534729091333382"
      ]
     },
     "execution_count": 113,
     "metadata": {},
     "output_type": "execute_result"
    }
   ],
   "source": [
    "log_loss(targets_valid, decision_tree_sparse_predictions)"
   ]
  },
  {
   "cell_type": "markdown",
   "id": "ec7446de",
   "metadata": {
    "id": "ec7446de"
   },
   "source": [
    "Similar results. Up to the next model."
   ]
  },
  {
   "cell_type": "markdown",
   "id": "eddea45a",
   "metadata": {
    "id": "eddea45a"
   },
   "source": [
    "#### Random Forest Classifier"
   ]
  },
  {
   "cell_type": "markdown",
   "id": "5ce9bf31",
   "metadata": {
    "id": "5ce9bf31"
   },
   "source": [
    "As with the single Decision Tree Classifier, we start with a Random Forest Classifier without parameter tuning."
   ]
  },
  {
   "cell_type": "code",
   "execution_count": 114,
   "id": "cdf586f6",
   "metadata": {
    "id": "cdf586f6"
   },
   "outputs": [],
   "source": [
    "random_forest_baseline = RandomForestClassifier(random_state=42, n_jobs=-1)"
   ]
  },
  {
   "cell_type": "code",
   "execution_count": 115,
   "id": "mNN43VXM1MMY",
   "metadata": {
    "colab": {
     "base_uri": "https://localhost:8080/"
    },
    "id": "mNN43VXM1MMY",
    "outputId": "623af19e-1df1-4b59-cb88-f7dc88e2d850"
   },
   "outputs": [
    {
     "name": "stdout",
     "output_type": "stream",
     "text": [
      "Training: 19.02 vs. Validation: 71.48\n"
     ]
    }
   ],
   "source": [
    "get_log_loss(random_forest_baseline)"
   ]
  },
  {
   "cell_type": "markdown",
   "id": "5dfd7dfe",
   "metadata": {},
   "source": [
    "Cross-validation not performed due to time and computational power restrictions."
   ]
  },
  {
   "cell_type": "code",
   "execution_count": 116,
   "id": "499c6c7f",
   "metadata": {
    "id": "499c6c7f"
   },
   "outputs": [],
   "source": [
    "# random_forest_baseline_log_loss_cv = cross_validate_model(random_forest_baseline).mean()"
   ]
  },
  {
   "cell_type": "markdown",
   "id": "856cfca3",
   "metadata": {
    "id": "856cfca3"
   },
   "source": [
    "Similar to the Decision Tree results, we observe **overfitting** for the baseline Random Forest. However, the performance on the validation set is already significantly better compared to the single Decision Tree baseline model. Following, parameter tuning is applied to test several Random Forest classifiers. The tuning is done via `GridSearch` form sklearn. **Note**: code is excluded via comments due to time and computational power restrictions."
   ]
  },
  {
   "cell_type": "code",
   "execution_count": 117,
   "id": "47ffd162",
   "metadata": {
    "id": "47ffd162"
   },
   "outputs": [],
   "source": [
    "# random_forest_params = {'n_estimators': [100, 300], 'max_features': [None, 'sqrt']}"
   ]
  },
  {
   "cell_type": "code",
   "execution_count": 118,
   "id": "1f7e5cce",
   "metadata": {
    "id": "1f7e5cce"
   },
   "outputs": [],
   "source": [
    "# random_forest_grids = GridSearchCV(random_forest_baseline, param_grid=random_forest_params,\n",
    "#                                   cv=stratified_cross_valid_folds, scoring='accuracy', n_jobs=-1)"
   ]
  },
  {
   "cell_type": "markdown",
   "id": "ee8f1897",
   "metadata": {},
   "source": [
    "**Note**: model is fitted on complete training data without split as `GridSearchCV` does the validation internally."
   ]
  },
  {
   "cell_type": "code",
   "execution_count": 119,
   "id": "0d1b4865",
   "metadata": {
    "colab": {
     "base_uri": "https://localhost:8080/",
     "height": 287
    },
    "id": "0d1b4865",
    "outputId": "6e12ada5-729f-4030-da3e-382fa1a00d27"
   },
   "outputs": [],
   "source": [
    "# random_forest_grids_fitted = random_forest_grids.fit(features_scaled, targets_after_resampling)"
   ]
  },
  {
   "cell_type": "code",
   "execution_count": 120,
   "id": "7cc06d79",
   "metadata": {
    "id": "7cc06d79"
   },
   "outputs": [],
   "source": [
    "# random_forest_grids_results = pd.DataFrame(random_forest_grids_fitted.cv_results_)"
   ]
  },
  {
   "cell_type": "code",
   "execution_count": 121,
   "id": "af607add",
   "metadata": {},
   "outputs": [],
   "source": [
    "# random_forest_grids_fitted.best_estimator_"
   ]
  },
  {
   "cell_type": "code",
   "execution_count": 122,
   "id": "004d886f",
   "metadata": {
    "id": "004d886f"
   },
   "outputs": [],
   "source": [
    "# random_forest_grids_mean_results = np.array(random_forest_grids_results.mean_test_score).reshape(2, 2).T\n",
    "# fig, ax = plt.subplots(figsize=(16, 6))\n",
    "# sns.heatmap(random_forest_grids_mean_results, xticklabels=random_forest_params['max_features'],\n",
    "#             yticklabels=random_forest_params['n_estimators'],\n",
    "#             linecolor='red', linewidths = 1, cmap='viridis', ax=ax)\n",
    "# ax.set_xlabel('max_features')\n",
    "# ax.set_ylabel('n_estimators')\n",
    "# plt.show()"
   ]
  },
  {
   "cell_type": "markdown",
   "id": "ce427799",
   "metadata": {
    "id": "ce427799"
   },
   "source": [
    "No real differences between parameter combinations. Hence, a random forest model with 100 estimators and `max_features` set to `None` is fitted."
   ]
  },
  {
   "cell_type": "code",
   "execution_count": 123,
   "id": "d9466f3d",
   "metadata": {
    "id": "d9466f3d"
   },
   "outputs": [],
   "source": [
    "random_forest_final = RandomForestClassifier(n_estimators=100, max_features=None,\n",
    "                                             random_state=42, n_jobs=-1).fit(features_train, targets_train)"
   ]
  },
  {
   "cell_type": "code",
   "execution_count": 124,
   "id": "a4cbee19",
   "metadata": {
    "id": "a4cbee19"
   },
   "outputs": [],
   "source": [
    "random_forest_predictions = random_forest_final.predict(features_valid)"
   ]
  },
  {
   "cell_type": "code",
   "execution_count": 125,
   "id": "bcc1bca8",
   "metadata": {
    "id": "bcc1bca8"
   },
   "outputs": [],
   "source": [
    "random_forest_confusion_matrix = confusion_matrix(targets_valid, random_forest_predictions)"
   ]
  },
  {
   "cell_type": "code",
   "execution_count": 126,
   "id": "0c6fb2f8",
   "metadata": {
    "id": "0c6fb2f8"
   },
   "outputs": [],
   "source": [
    "random_forest_confusion_matrix_plot = ConfusionMatrixDisplay(random_forest_confusion_matrix,\n",
    "                                                        display_labels=np.array(['draw', 'home', 'away']))"
   ]
  },
  {
   "cell_type": "code",
   "execution_count": 127,
   "id": "2f15f80e",
   "metadata": {
    "colab": {
     "base_uri": "https://localhost:8080/",
     "height": 466
    },
    "id": "2f15f80e",
    "outputId": "31500de4-adaf-4615-a5c3-f123f0b099eb"
   },
   "outputs": [
    {
     "data": {
      "text/plain": [
       "<sklearn.metrics._plot.confusion_matrix.ConfusionMatrixDisplay at 0x217efb729d0>"
      ]
     },
     "execution_count": 127,
     "metadata": {},
     "output_type": "execute_result"
    },
    {
     "data": {
      "image/png": "[encoded data removed]",
      "text/plain": [
       "<Figure size 432x288 with 2 Axes>"
      ]
     },
     "metadata": {
      "needs_background": "light"
     },
     "output_type": "display_data"
    }
   ],
   "source": [
    "random_forest_confusion_matrix_plot.plot()"
   ]
  },
  {
   "cell_type": "code",
   "execution_count": 128,
   "id": "462f79dc",
   "metadata": {
    "colab": {
     "base_uri": "https://localhost:8080/"
    },
    "id": "462f79dc",
    "outputId": "bed5134b-656e-4dc2-af2f-47c94346a9a2",
    "scrolled": false
   },
   "outputs": [
    {
     "data": {
      "text/plain": [
       "0.7174671514040438"
      ]
     },
     "execution_count": 128,
     "metadata": {},
     "output_type": "execute_result"
    }
   ],
   "source": [
    "log_loss(targets_valid, random_forest_final.predict_proba(features_valid))"
   ]
  },
  {
   "cell_type": "markdown",
   "id": "r2hLpafjAO_k",
   "metadata": {
    "id": "r2hLpafjAO_k"
   },
   "source": [
    "As expected, the random forest model is **better by a huge margin** (around 1/2 of the log-loss on the validation subset) compared to the single Decision tree classifier."
   ]
  },
  {
   "cell_type": "markdown",
   "id": "2461b46d",
   "metadata": {
    "id": "2461b46d"
   },
   "source": [
    "#### XGB Classifier"
   ]
  },
  {
   "cell_type": "markdown",
   "id": "4113da35",
   "metadata": {
    "id": "4113da35"
   },
   "source": [
    "Next, a eXtreme Gradient Boosting Classifier is applied on the data.\n",
    "\n",
    "* **Gradient boosting** involves creating and adding new Decision Trees to the model sequentially. The new trees are created to correct the residual errors in the predictions from the previous trees.\n",
    "* The drawback to that model is that it tends to **overfit**.\n",
    "* To accomodate for that drawback, a weighting factor can be applied for the corrections by new trees. This weighting is called the **shrinkage factor** or **learning rate**. Common values for the learning rate range between **0.1 and 0.3**. But values less than 0.1 are feasible as well.\n",
    "* Lastly, **extreme** indicates the high computational speed.\n",
    "\n",
    "As for the Random Forest, we use **100 estimators** and `max_features` set to `None`. Moreover, the following parameters (besides `random_state` & `n_jobs` are set:\n",
    "\n",
    "* `learning_rate`: see above.\n",
    "* `objective` (learning objective): **multi:softmax**, recommended for multiclass classification.\n",
    "* `eval_metric` (evaluation metric): **merror**, multiclass classification error rate.\n",
    "* `use_label_encoder`: deprecated function, has to be specified to avoid error warning.\n",
    "\n",
    "Sources:\n",
    "* https://xgboost.readthedocs.io/en/stable/parameter.html#general-parameters\n",
    "* https://machinelearningmastery.com/tune-learning-rate-for-gradient-boosting-with-xgboost-in-python/"
   ]
  },
  {
   "cell_type": "code",
   "execution_count": 129,
   "id": "900a5e13",
   "metadata": {
    "colab": {
     "base_uri": "https://localhost:8080/"
    },
    "id": "900a5e13",
    "outputId": "25ebc5c9-3a67-41ce-a3ee-e51c030b2fa4"
   },
   "outputs": [],
   "source": [
    "xgb_classifier = xgb.XGBClassifier(n_estimators=100, max_features=None, learning_rate=0.1, objective='multi:softmax',\n",
    "                                   eval_metric='merror', random_state=42, n_jobs=-1,\n",
    "                                   use_label_encoder=False).fit(features_train, targets_train)"
   ]
  },
  {
   "cell_type": "code",
   "execution_count": 131,
   "id": "8OZBTo-oAx5r",
   "metadata": {
    "colab": {
     "base_uri": "https://localhost:8080/"
    },
    "id": "8OZBTo-oAx5r",
    "outputId": "12eb147d-cbde-468b-e85d-5abb447136ee"
   },
   "outputs": [
    {
     "data": {
      "text/plain": [
       "0.9594249545775664"
      ]
     },
     "execution_count": 131,
     "metadata": {},
     "output_type": "execute_result"
    }
   ],
   "source": [
    "log_loss(targets_train, xgb_classifier.predict_proba(features_train))"
   ]
  },
  {
   "cell_type": "code",
   "execution_count": 132,
   "id": "sk8ZOzJ4BCcG",
   "metadata": {
    "colab": {
     "base_uri": "https://localhost:8080/"
    },
    "id": "sk8ZOzJ4BCcG",
    "outputId": "015483c6-81d9-4a29-920c-910b54c5dc9a"
   },
   "outputs": [
    {
     "data": {
      "text/plain": [
       "1.011573227040095"
      ]
     },
     "execution_count": 132,
     "metadata": {},
     "output_type": "execute_result"
    }
   ],
   "source": [
    "log_loss(targets_valid, xgb_classifier.predict_proba(features_valid))"
   ]
  },
  {
   "cell_type": "markdown",
   "id": "5b6942fa",
   "metadata": {
    "id": "1f597107"
   },
   "source": [
    "Cross-validation not performed due to time and computational power restrictions."
   ]
  },
  {
   "cell_type": "code",
   "execution_count": 133,
   "id": "1f597107",
   "metadata": {
    "id": "1f597107"
   },
   "outputs": [],
   "source": [
    "# xgb_classifier_log_loss_cv = cross_validate_model(xgb_classifier).mean()"
   ]
  },
  {
   "cell_type": "markdown",
   "id": "f9ad5b44",
   "metadata": {
    "id": "f9ad5b44"
   },
   "source": [
    "Surprisingly, the XGB classifier performs **worse relative to the random forest model**. Hyper-parameter tuning could definitely change that. Because of the best performance, the Random Forest classifier is used to make the final predictions using the test set."
   ]
  },
  {
   "cell_type": "code",
   "execution_count": 188,
   "id": "b8780795",
   "metadata": {
    "id": "b8780795"
   },
   "outputs": [],
   "source": [
    "final_predictions = random_forest_final.predict_proba(features_test_scaled)"
   ]
  },
  {
   "cell_type": "code",
   "execution_count": 189,
   "id": "377f83d8",
   "metadata": {
    "id": "377f83d8"
   },
   "outputs": [],
   "source": [
    "submission = pd.DataFrame(final_predictions, columns=['draw', 'home', 'away'])"
   ]
  },
  {
   "cell_type": "markdown",
   "id": "f322bb9a",
   "metadata": {},
   "source": [
    "As stated on the kaggle competition page, the correct order for submission file is: id, home, away, draw."
   ]
  },
  {
   "cell_type": "code",
   "execution_count": 190,
   "id": "04064225",
   "metadata": {
    "id": "04064225"
   },
   "outputs": [],
   "source": [
    "submission = pd.concat([pd.Series(test_data.index, name='id'), submission[['home', 'away', 'draw']]], axis=1)"
   ]
  },
  {
   "cell_type": "code",
   "execution_count": 192,
   "id": "f4843768",
   "metadata": {
    "id": "f4843768"
   },
   "outputs": [],
   "source": [
    "# submission.to_csv('submission_random_forest.csv', index=False)"
   ]
  },
  {
   "cell_type": "markdown",
   "id": "feb22201",
   "metadata": {
    "id": "feb22201"
   },
   "source": [
    "#### Extension: Neural Network"
   ]
  },
  {
   "cell_type": "markdown",
   "id": "7de253ea",
   "metadata": {
    "id": "7de253ea"
   },
   "source": [
    "In the next cells, a simple **neural network** is constructed to check whether it could beat the previous models."
   ]
  },
  {
   "cell_type": "markdown",
   "id": "5085dc50",
   "metadata": {
    "id": "5085dc50"
   },
   "source": [
    "Set seed for reproducibility:"
   ]
  },
  {
   "cell_type": "code",
   "execution_count": 140,
   "id": "45c32a3a",
   "metadata": {
    "id": "45c32a3a"
   },
   "outputs": [],
   "source": [
    "tensorflow.random.set_seed(69)"
   ]
  },
  {
   "cell_type": "markdown",
   "id": "39384d90",
   "metadata": {
    "id": "39384d90"
   },
   "source": [
    "Encode the labels:"
   ]
  },
  {
   "cell_type": "code",
   "execution_count": 141,
   "id": "1c514b5a",
   "metadata": {
    "id": "1c514b5a"
   },
   "outputs": [],
   "source": [
    "targets_train_deep_learning = to_categorical(targets_train, num_classes = 3)\n",
    "targets_valid_deep_learning = to_categorical(targets_valid, num_classes = 3)"
   ]
  },
  {
   "cell_type": "markdown",
   "id": "c67ac74d",
   "metadata": {
    "id": "c67ac74d"
   },
   "source": [
    "Following, a function is define to create the neural network:"
   ]
  },
  {
   "cell_type": "code",
   "execution_count": 148,
   "id": "9fd0801b",
   "metadata": {
    "id": "9fd0801b"
   },
   "outputs": [],
   "source": [
    "def design_neural_network(inputs_df, labels_df):\n",
    "    # Enable stacking of layers and specify name of neural network:\n",
    "    network = Sequential(name='deep_classifier')\n",
    "\n",
    "    # Input Layer:\n",
    "    network.add(InputLayer(input_shape = (inputs_df.shape[1], )))\n",
    "\n",
    "    # Hidden Layers. Dropout layers randomly set input units to 0 with a frequency of 0.2 (prevent overfitting).\n",
    "    network.add(Dense(1024, activation='relu'))\n",
    "    network.add(Dropout(0.2))\n",
    "    network.add(Dense(1024, activation='relu'))\n",
    "    network.add(Dropout(0.2))\n",
    "    network.add(Dense(1024, activation='relu'))\n",
    "\n",
    "    # Output Layer:\n",
    "    network.add(Dense(labels_df.shape[1], activation='softmax'))\n",
    "\n",
    "    # Loss function: cross-entropy loss as there are more than two target classes\n",
    "    loss_func = tensorflow.keras.losses.CategoricalCrossentropy()\n",
    "\n",
    "    # Optimizer: Adam algorithm (stochastic gradient descent method)\n",
    "    optimizer = Adam(learning_rate=0.001)\n",
    "\n",
    "    # Compiling\n",
    "    network.compile(loss=loss_func, optimizer=optimizer)\n",
    "\n",
    "    return network"
   ]
  },
  {
   "cell_type": "markdown",
   "id": "ac2124ec",
   "metadata": {
    "id": "ac2124ec"
   },
   "source": [
    "Add callback to stop training when metric has stopped to improve:"
   ]
  },
  {
   "cell_type": "code",
   "execution_count": 149,
   "id": "a94debbf",
   "metadata": {
    "id": "a94debbf"
   },
   "outputs": [],
   "source": [
    "earlystop = EarlyStopping(min_delta=0.001, patience=20, restore_best_weights=True)"
   ]
  },
  {
   "cell_type": "markdown",
   "id": "c2c27e48",
   "metadata": {
    "id": "c2c27e48"
   },
   "source": [
    "Instantiate the neural network:"
   ]
  },
  {
   "cell_type": "code",
   "execution_count": 150,
   "id": "0fe8d704",
   "metadata": {
    "id": "0fe8d704"
   },
   "outputs": [],
   "source": [
    "deep_classifier = design_neural_network(features_train, targets_train_deep_learning)"
   ]
  },
  {
   "cell_type": "markdown",
   "id": "5d958520",
   "metadata": {
    "id": "5d958520"
   },
   "source": [
    "Fit model to the data. We will work with 10 epochs to avoid long computation time."
   ]
  },
  {
   "cell_type": "code",
   "execution_count": 151,
   "id": "53fe3d77",
   "metadata": {
    "id": "53fe3d77"
   },
   "outputs": [],
   "source": [
    "epochs_network = 10"
   ]
  },
  {
   "cell_type": "code",
   "execution_count": 152,
   "id": "1498850d",
   "metadata": {
    "id": "1498850d"
   },
   "outputs": [],
   "source": [
    "deep_classifier_history = deep_classifier.fit(features_train, targets_train_deep_learning, batch_size=100,\n",
    "                                             epochs=epochs_network, callbacks=earlystop,\n",
    "                                             validation_data=(features_valid, targets_valid_deep_learning),\n",
    "                                             verbose=0)"
   ]
  },
  {
   "cell_type": "markdown",
   "id": "74affee0",
   "metadata": {
    "id": "74affee0"
   },
   "source": [
    "Visualize the results:"
   ]
  },
  {
   "cell_type": "code",
   "execution_count": 163,
   "id": "5a200d40",
   "metadata": {
    "id": "5a200d40",
    "outputId": "d94b0de8-db10-4353-adef-868d3ee2a9c5"
   },
   "outputs": [
    {
     "data": {
      "image/png": "[encoded data removed]",
      "text/plain": [
       "<Figure size 1152x720 with 1 Axes>"
      ]
     },
     "metadata": {
      "needs_background": "light"
     },
     "output_type": "display_data"
    }
   ],
   "source": [
    "fig, ax = plt.subplots(figsize=(16, 10))\n",
    "ax.plot(np.arange(1, len(deep_classifier_history.epoch) + 1), deep_classifier_history.history['Cross-Entropy'],\n",
    "             label='Training Loss')\n",
    "ax.plot(np.arange(1, len(deep_classifier_history.epoch) + 1), deep_classifier_history.history['val_Cross-Entropy'],\n",
    "             label='Validation Loss')\n",
    "ax.set_title('Cross-Entroy Loss')\n",
    "ax.legend(['Training', 'Validation'], loc='lower right')\n",
    "plt.xlabel('Epochs')\n",
    "\n",
    "plt.show()"
   ]
  },
  {
   "cell_type": "markdown",
   "id": "dfcd2207",
   "metadata": {},
   "source": [
    "Mean cross-entropy loss:"
   ]
  },
  {
   "cell_type": "code",
   "execution_count": 166,
   "id": "ed1e57b1",
   "metadata": {},
   "outputs": [
    {
     "data": {
      "text/plain": [
       "0.9738587379455567"
      ]
     },
     "execution_count": 166,
     "metadata": {},
     "output_type": "execute_result"
    }
   ],
   "source": [
    "np.mean(deep_classifier_history.history['Cross-Entropy'])"
   ]
  },
  {
   "cell_type": "code",
   "execution_count": 167,
   "id": "c34ac234",
   "metadata": {},
   "outputs": [
    {
     "data": {
      "text/plain": [
       "1.014726984500885"
      ]
     },
     "execution_count": 167,
     "metadata": {},
     "output_type": "execute_result"
    }
   ],
   "source": [
    "np.mean(deep_classifier_history.history['val_Cross-Entropy'])"
   ]
  },
  {
   "cell_type": "markdown",
   "id": "01f089cc",
   "metadata": {
    "id": "01f089cc"
   },
   "source": [
    "**Strong overfitting** indicated by the plot. On average, similar results to the XGB classifier. Definitely improvements via hyper-parameter tuning possible. However, we will continue with predictions:"
   ]
  },
  {
   "cell_type": "code",
   "execution_count": 168,
   "id": "c55fd21a",
   "metadata": {
    "id": "c55fd21a"
   },
   "outputs": [],
   "source": [
    "deep_classifier_predictions_probabilities = deep_classifier.predict(features_valid)"
   ]
  },
  {
   "cell_type": "code",
   "execution_count": 169,
   "id": "8a643911",
   "metadata": {
    "id": "8a643911"
   },
   "outputs": [],
   "source": [
    "deep_classifier_predictions = np.argmax(deep_classifier_predictions_probabilities, axis=1)"
   ]
  },
  {
   "cell_type": "code",
   "execution_count": 170,
   "id": "0a361055",
   "metadata": {
    "id": "0a361055"
   },
   "outputs": [],
   "source": [
    "deep_classifier_confusion_matrix = confusion_matrix(targets_valid, deep_classifier_predictions)"
   ]
  },
  {
   "cell_type": "code",
   "execution_count": 171,
   "id": "b1e913e2",
   "metadata": {
    "id": "b1e913e2"
   },
   "outputs": [],
   "source": [
    "deep_classifier_confusion_matrix_plot = ConfusionMatrixDisplay(deep_classifier_confusion_matrix,\n",
    "                                                               display_labels=np.array(['draw', 'home', 'away']))"
   ]
  },
  {
   "cell_type": "code",
   "execution_count": 172,
   "id": "d8926bc1",
   "metadata": {
    "id": "d8926bc1",
    "outputId": "b594b6c6-b5fe-4afc-f334-43ce59670c61"
   },
   "outputs": [
    {
     "data": {
      "text/plain": [
       "<sklearn.metrics._plot.confusion_matrix.ConfusionMatrixDisplay at 0x217e8a4d7c0>"
      ]
     },
     "execution_count": 172,
     "metadata": {},
     "output_type": "execute_result"
    },
    {
     "data": {
      "image/png": "[encoded data removed]",
      "text/plain": [
       "<Figure size 432x288 with 2 Axes>"
      ]
     },
     "metadata": {
      "needs_background": "light"
     },
     "output_type": "display_data"
    }
   ],
   "source": [
    "deep_classifier_confusion_matrix_plot.plot()"
   ]
  },
  {
   "cell_type": "markdown",
   "id": "69f212f7",
   "metadata": {
    "id": "69f212f7"
   },
   "source": [
    "Make predictions on the test data and save the results:"
   ]
  },
  {
   "cell_type": "code",
   "execution_count": 173,
   "id": "e35b36e6",
   "metadata": {
    "id": "e35b36e6"
   },
   "outputs": [],
   "source": [
    "deep_classifier_predictions_test = deep_classifier.predict(features_test_scaled)"
   ]
  },
  {
   "cell_type": "code",
   "execution_count": 182,
   "id": "686c4ecd",
   "metadata": {
    "id": "686c4ecd"
   },
   "outputs": [],
   "source": [
    "submission_deep_classifier = pd.DataFrame(deep_classifier_predictions_test, columns=['draw', 'home', 'away'])"
   ]
  },
  {
   "cell_type": "code",
   "execution_count": 183,
   "id": "9e2cfe9c",
   "metadata": {
    "id": "9e2cfe9c"
   },
   "outputs": [],
   "source": [
    "submission_deep_classifier = pd.concat([pd.Series(test_data.index, name='id'),\n",
    "                                        submission_deep_classifier[['home', 'away', 'draw']]], axis=1)"
   ]
  },
  {
   "cell_type": "code",
   "execution_count": 187,
   "id": "8ef4e63e",
   "metadata": {
    "id": "8ef4e63e"
   },
   "outputs": [],
   "source": [
    "# submission_deep_classifier.to_csv('submission_nn.csv', index=False)"
   ]
  }
 ],
 "metadata": {
  "colab": {
   "provenance": []
  },
  "kernelspec": {
   "display_name": "Python 3",
   "language": "python",
   "name": "python3"
  },
  "language_info": {
   "codemirror_mode": {
    "name": "ipython",
    "version": 3
   },
   "file_extension": ".py",
   "mimetype": "text/x-python",
   "name": "python",
   "nbconvert_exporter": "python",
   "pygments_lexer": "ipython3",
   "version": "3.8.8"
  }
 },
 "nbformat": 4,
 "nbformat_minor": 5
}
